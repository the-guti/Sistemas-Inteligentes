{
 "cells": [
  {
   "cell_type": "markdown",
   "metadata": {},
   "source": [
    "<h1>Tarea #4: Caníbales y Misioneros </h1>\n",
    "<h3>Integrantes</h3>\n",
    "<ul>\n",
    "    <li>Alejandro Guti </li>\n",
    "    <li>Eduardo Badillo </li>\n",
    "    <li>Emilio Hernandez</li>\n",
    "</ul>"
   ]
  },
  {
   "cell_type": "code",
   "execution_count": 21,
   "metadata": {},
   "outputs": [],
   "source": [
    "from agents import *\n",
    "from notebook import psource\n",
    "from utils import *"
   ]
  },
  {
   "cell_type": "code",
   "execution_count": 22,
   "metadata": {},
   "outputs": [],
   "source": [
    "class Estado:\n",
    "\n",
    "    def __init__(self,c,m,b=1):\n",
    "        self.c = c\n",
    "        self.m = m\n",
    "        self.b = b\n",
    "\n",
    "    def setm(self, m):\n",
    "        self.m = m\n",
    "\n",
    "    def setc(self, c):\n",
    "        self.c = c\n",
    "    \n",
    "    def setb(self,b):\n",
    "        self.b = b\n",
    "\n",
    "    def getm(self):\n",
    "        return self.m\n",
    "\n",
    "    def getc(self):\n",
    "        return self.c\n",
    "    \n",
    "    def getb(self):\n",
    "        return self.b\n",
    "\n",
    "    def isValid(self):\n",
    "        return (self.c,self.m) not in [(3,1), (3,2), (2,1), (1,2), (0,1), (0,2)]\n",
    "\n",
    "    def __repr__(self):\n",
    "        return \"({},{}) b = {}\".format(self.c,self.m,self.b)\n",
    "                                                      \n",
    "    def __eq__(self, other):\n",
    "        return self.c == other.c and self.m == other.m and self.b == other.b\n",
    "    \n",
    "    def __hash__(self):\n",
    "        return hash((self.c,self.m,self.b))\n",
    "\n",
    "failState = Estado(-1,-1)"
   ]
  },
  {
   "cell_type": "code",
   "execution_count": 23,
   "metadata": {},
   "outputs": [],
   "source": [
    "class Problem(object):\n",
    "\n",
    "    \"\"\"The abstract class for a formal problem. You should subclass0\n",
    "    this and implement the methods actions and result, and possibly\n",
    "    __init__, goal_test, and path_cost. Then you will create instances\n",
    "    of your subclass and solve them with the various search functions.\"\"\"\n",
    "\n",
    "    def __init__(self, initial, goal=None):\n",
    "        \"\"\"The constructor specifies the initial state, and possibly a goal\n",
    "        state, if there is a unique goal. Your subclass's constructor can add\n",
    "        other arguments.\"\"\"\n",
    "        self.initial = initial\n",
    "        self.goal = goal\n",
    "\n",
    "    def actions(self, state):\n",
    "        \"\"\"Return the actions that can be executed in the given\n",
    "        state. The result would typically be a list, but if there are\n",
    "        many actions, consider yielding them one at a time in an\n",
    "        iterator, rather than building them all at once.\"\"\"\n",
    "        raise NotImplementedError\n",
    "\n",
    "    def result(self, state, action):\n",
    "        \"\"\"Return the state that results from executing the given\n",
    "        action in the given state. The action must be one of\n",
    "        self.actions(state).\"\"\"\n",
    "        raise NotImplementedError\n",
    "\n",
    "    def goal_test(self, state):\n",
    "        \"\"\"Return True if the state is a goal. The default method compares the\n",
    "        state to self.goal or checks for state in self.goal if it is a\n",
    "        list, as specified in the constructor. Override this method if\n",
    "        checking against a single self.goal is not enough.\"\"\"\n",
    "        if isinstance(self.goal, list):\n",
    "            return is_in(state, self.goal)\n",
    "        else:\n",
    "            return state == self.goal\n",
    "\n",
    "    def path_cost(self, c, state1, action, state2):\n",
    "        \"\"\"Return the cost of a solution path that arrives at state2 from\n",
    "        state1 via action, assuming cost c to get up to state1. If the problem\n",
    "        is such that the path doesn't matter, this function will only look at\n",
    "        state2.  If the path does matter, it will consider c and maybe state1\n",
    "        and action. The default method costs 1 for every step in the path.\"\"\"\n",
    "        return c + 1\n",
    "\n",
    "    def value(self, state):\n",
    "        \"\"\"For optimization problems, each state has a value.  Hill-climbing\n",
    "        and related algorithms try to maximize this value.\"\"\"\n",
    "        raise NotImplementedError"
   ]
  },
  {
   "cell_type": "code",
   "execution_count": 24,
   "metadata": {},
   "outputs": [],
   "source": [
    "import math\n",
    "\n",
    "class Node:\n",
    "\n",
    "    \"\"\"A node in a search tree. Contains a pointer to the parent (the node\n",
    "    that this is a successor of) and to the actual state for this node. Note\n",
    "    that if a state is arrived at by two paths, then there are two nodes with\n",
    "    the same state.  Also includes the action that got us to this state, and\n",
    "    the total path_cost (also known as g) to reach the node.  Other functions\n",
    "    may add an f and h value; see best_first_graph_search and astar_search for\n",
    "    an explanation of how the f and h values are handled. You will not need to\n",
    "    subclass this class.\"\"\"\n",
    "\n",
    "    def __init__(self, state, parent=None, action=None, path_cost=0):\n",
    "        \"\"\"Create a search tree Node, derived from a parent by an action.\"\"\"\n",
    "        self.state = state\n",
    "        self.parent = parent\n",
    "        self.action = action\n",
    "        self.path_cost = path_cost\n",
    "        self.depth = 0\n",
    "        if parent:\n",
    "            self.depth = parent.depth + 1\n",
    "\n",
    "    def __repr__(self):\n",
    "        if self.action == None:\n",
    "            sgn = ''\n",
    "        elif self.state.getb():\n",
    "            sgn = '+'\n",
    "        else:\n",
    "            sgn = '-'\n",
    "        return \"<Node parent_action: {}{}, state: {},  depth: {}>\".format(sgn,self.action, self.state, self.depth)\n",
    "\n",
    "    def expand(self, problem):\n",
    "        \"\"\"List the nodes reachable in one step from this node.\"\"\"\n",
    "        return [self.child_node(problem, action)\n",
    "                for action in problem.actions(self.state)]\n",
    "\n",
    "    def child_node(self, problem, action):\n",
    "        \"\"\"[Figure 3.10]\"\"\"\n",
    "        next_state = problem.result(self.state, action)\n",
    "        next_node = Node(next_state, self, action,\n",
    "                    problem.path_cost(self.path_cost, self.state,\n",
    "                                      action, next_state))\n",
    "        return next_node\n",
    "    \n",
    "    def solution(self):\n",
    "        \"\"\"Return the sequence of actions to go from the root to this node.\"\"\"\n",
    "        return [node.action for node in self.path()[1:]]\n",
    "\n",
    "    def path(self):\n",
    "        \"\"\"Return a list of nodes forming the path from the root to this node.\"\"\"\n",
    "        node, path_back = self, []\n",
    "        while node:\n",
    "            path_back.append(node)\n",
    "            node = node.parent\n",
    "        return list(reversed(path_back))\n",
    "    \n",
    "    def getDepth(self):\n",
    "        return self.depth\n",
    "\n",
    "failure = Node(failState, path_cost=math.inf) # Indicates an algorithm couldn't find a solution."
   ]
  },
  {
   "cell_type": "code",
   "execution_count": 25,
   "metadata": {},
   "outputs": [],
   "source": [
    "class Cym(Problem):\n",
    "\n",
    "    initial = Estado(3,3,1)\n",
    "    goal = Estado(0,0,0)\n",
    "    \n",
    "    def __init__(self):\n",
    "        Problem.__init__(self,self.initial,self.goal)\n",
    "\n",
    "    def actions(self, estado):\n",
    "        actions = []\n",
    "        if estado.getb() == 1: # es 1, es decir, va a transportar personas del lado inicial al final\n",
    "            if estado.c >= 2:\n",
    "                actions = actions + [(1,0),(2,0)]\n",
    "                if estado.m >= 2:\n",
    "                    actions = actions + [(0,1),(0,2),(1,1)]\n",
    "                elif estado.m == 1:\n",
    "                    actions = actions + [(0,1),(1,1)]\n",
    "            elif estado.c == 1:\n",
    "                actions.append((1,0))\n",
    "                if estado.m >= 2:\n",
    "                    actions = actions + [(0,1),(0,2),(1,1)]\n",
    "                elif estado.m == 1:\n",
    "                    actions = actions + [(0,1),(1,1)]\n",
    "        else: # es 0, es decir, va a transportar personas del lado final al inicial \n",
    "            if 3-estado.c >= 2:\n",
    "                actions = actions + [(1,0),(2,0)]\n",
    "                if 3-estado.m >= 2:\n",
    "                    actions = actions + [(0,1),(0,2),(1,1)]\n",
    "                elif 3-estado.m == 1:\n",
    "                    actions = actions + [(0,1),(1,1)]\n",
    "            elif 3-estado.c == 1:\n",
    "                actions.append((1,0))\n",
    "                if 3-estado.m >= 2:\n",
    "                    actions = actions + [(0,1),(0,2),(1,1)]\n",
    "                elif 3-estado.m == 1:\n",
    "                    actions = actions + [(0,1),(1,1)]\n",
    "        return actions\n",
    "    \n",
    "    def result(self, state, action):\n",
    "        if state.getb() == 1: # va a restar \n",
    "            nuevo = Estado(state.getc()-action[0], state.getm()-action[1], (state.getb()+1)%2)\n",
    "        else: # va a sumar\n",
    "            nuevo = Estado(state.getc()+action[0], state.getm()+action[1], (state.getb()+1)%2)\n",
    "        if nuevo.isValid(): # checar si los canibales no sobrepasan a los misioneros\n",
    "            return nuevo\n",
    "        else:\n",
    "            return failState\n",
    "        \n",
    "    def goal_test(self, state):\n",
    "        return state == self.goal"
   ]
  },
  {
   "cell_type": "markdown",
   "metadata": {},
   "source": [
    "<h2>Breadth First Search</h2>"
   ]
  },
  {
   "cell_type": "code",
   "execution_count": 26,
   "metadata": {},
   "outputs": [],
   "source": [
    "from collections import deque\n",
    "\n",
    "FIFOQueue = deque\n",
    "\n",
    "def breadth_first_search(problem):\n",
    "    \"Search shallowest nodes in the search tree first.\"\n",
    "    node = Node(problem.initial)\n",
    "    if problem.goal_test(problem.initial):\n",
    "        return node\n",
    "    frontier = FIFOQueue([node])\n",
    "    reached = {problem.initial}\n",
    "    while frontier:\n",
    "        node = frontier.pop()\n",
    "        for child in node.expand(problem):\n",
    "            s = child.state\n",
    "            if problem.goal_test(s):\n",
    "                return child\n",
    "            if s not in reached:\n",
    "                reached.add(s)\n",
    "                frontier.appendleft(child)\n",
    "    return failure\n"
   ]
  },
  {
   "cell_type": "code",
   "execution_count": 27,
   "metadata": {},
   "outputs": [
    {
     "name": "stdout",
     "output_type": "stream",
     "text": [
      "<Node parent_action: None, state: (3,3) b = 1,  depth: 0>\n",
      "<Node parent_action: -(2, 0), state: (1,3) b = 0,  depth: 1>\n",
      "<Node parent_action: +(1, 0), state: (2,3) b = 1,  depth: 2>\n",
      "<Node parent_action: -(2, 0), state: (0,3) b = 0,  depth: 3>\n",
      "<Node parent_action: +(1, 0), state: (1,3) b = 1,  depth: 4>\n",
      "<Node parent_action: -(0, 2), state: (1,1) b = 0,  depth: 5>\n",
      "<Node parent_action: +(1, 1), state: (2,2) b = 1,  depth: 6>\n",
      "<Node parent_action: -(0, 2), state: (2,0) b = 0,  depth: 7>\n",
      "<Node parent_action: +(1, 0), state: (3,0) b = 1,  depth: 8>\n",
      "<Node parent_action: -(2, 0), state: (1,0) b = 0,  depth: 9>\n",
      "<Node parent_action: +(1, 0), state: (2,0) b = 1,  depth: 10>\n",
      "<Node parent_action: -(2, 0), state: (0,0) b = 0,  depth: 11>\n"
     ]
    }
   ],
   "source": [
    "problema = Cym()\n",
    "bfs = breadth_first_search(problema)\n",
    "for node in bfs.path():\n",
    "    print(node)"
   ]
  },
  {
   "cell_type": "markdown",
   "metadata": {},
   "source": [
    "<h2>Depth limited search</h2>\n",
    "<ul>\n",
    "    <li>Similar to DFS <em>but with a predetermined limit</em></li>\n",
    "    <li>Solves the drawback of the infinite path in DFS</li>\n",
    "    <li>The child nodes of the limit nodes will be treated as unsuccesful</li>\n",
    "    <li>Cutoff value: Defines no solution for the problem within the depth limit</li>\n",
    "</ul>"
   ]
  },
  {
   "cell_type": "code",
   "execution_count": 28,
   "metadata": {},
   "outputs": [],
   "source": [
    "def dls(problem, limit):\n",
    "    \n",
    "    def recursive_dls(node, problem, limit):\n",
    "        if problem.goal_test(node.state): # reached the predefined goal\n",
    "            return node\n",
    "        elif limit == 0: # reached the depth limit, no solution was found\n",
    "            return 'cutoff'\n",
    "        else:\n",
    "            cutoff_occurred = False\n",
    "            for child in node.expand(problem):\n",
    "                result = recursive_dls(child, problem, limit - 1)\n",
    "                ##print(child, result)\n",
    "                if result == 'cutoff':\n",
    "                    cutoff_occurred = True\n",
    "                elif result is not None:\n",
    "                    return result\n",
    "            return 'cutoff' if cutoff_occurred else None\n",
    "\n",
    "    # Body of depth_limited_search:\n",
    "    return recursive_dls(Node(problem.initial), problem, limit)"
   ]
  },
  {
   "cell_type": "code",
   "execution_count": 29,
   "metadata": {},
   "outputs": [
    {
     "name": "stdout",
     "output_type": "stream",
     "text": [
      "<Node parent_action: None, state: (3,3) b = 1,  depth: 0>\n",
      "<Node parent_action: -(1, 0), state: (2,3) b = 0,  depth: 1>\n",
      "<Node parent_action: +(1, 0), state: (3,3) b = 1,  depth: 2>\n",
      "<Node parent_action: -(2, 0), state: (1,3) b = 0,  depth: 3>\n",
      "<Node parent_action: +(1, 0), state: (2,3) b = 1,  depth: 4>\n",
      "<Node parent_action: -(2, 0), state: (0,3) b = 0,  depth: 5>\n",
      "<Node parent_action: +(1, 0), state: (1,3) b = 1,  depth: 6>\n",
      "<Node parent_action: -(0, 2), state: (1,1) b = 0,  depth: 7>\n",
      "<Node parent_action: +(1, 1), state: (2,2) b = 1,  depth: 8>\n",
      "<Node parent_action: -(0, 2), state: (2,0) b = 0,  depth: 9>\n",
      "<Node parent_action: +(1, 0), state: (3,0) b = 1,  depth: 10>\n",
      "<Node parent_action: -(2, 0), state: (1,0) b = 0,  depth: 11>\n",
      "<Node parent_action: +(1, 0), state: (2,0) b = 1,  depth: 12>\n",
      "<Node parent_action: -(2, 0), state: (0,0) b = 0,  depth: 13>\n"
     ]
    }
   ],
   "source": [
    "problema = Cym()\n",
    "sol = dls(problema, 14)\n",
    "for node in sol.path():\n",
    "    print(node)"
   ]
  },
  {
   "cell_type": "markdown",
   "metadata": {},
   "source": [
    "<h2>Iterative Deepening Search</h2>\n",
    "<p>Exactly the same as LDS but varies the depth level until the most optimal is found</p>"
   ]
  },
  {
   "cell_type": "code",
   "execution_count": 30,
   "metadata": {},
   "outputs": [],
   "source": [
    "def Iterative_Deepening_Search(problem): # finds fastest backtrack solution\n",
    "    limit = 0\n",
    "    horizon = True\n",
    "    while(horizon):\n",
    "        r = dls(problem, limit)\n",
    "        if(type(r) is str):\n",
    "            limit+=1\n",
    "        else: horizon = False\n",
    "    return dls(problem, limit)"
   ]
  },
  {
   "cell_type": "code",
   "execution_count": 31,
   "metadata": {
    "scrolled": true
   },
   "outputs": [
    {
     "name": "stdout",
     "output_type": "stream",
     "text": [
      "<Node parent_action: None, state: (3,3) b = 1,  depth: 0>\n",
      "<Node parent_action: -(2, 0), state: (1,3) b = 0,  depth: 1>\n",
      "<Node parent_action: +(1, 0), state: (2,3) b = 1,  depth: 2>\n",
      "<Node parent_action: -(2, 0), state: (0,3) b = 0,  depth: 3>\n",
      "<Node parent_action: +(1, 0), state: (1,3) b = 1,  depth: 4>\n",
      "<Node parent_action: -(0, 2), state: (1,1) b = 0,  depth: 5>\n",
      "<Node parent_action: +(1, 1), state: (2,2) b = 1,  depth: 6>\n",
      "<Node parent_action: -(0, 2), state: (2,0) b = 0,  depth: 7>\n",
      "<Node parent_action: +(1, 0), state: (3,0) b = 1,  depth: 8>\n",
      "<Node parent_action: -(2, 0), state: (1,0) b = 0,  depth: 9>\n",
      "<Node parent_action: +(1, 0), state: (2,0) b = 1,  depth: 10>\n",
      "<Node parent_action: -(2, 0), state: (0,0) b = 0,  depth: 11>\n"
     ]
    }
   ],
   "source": [
    "problema = Cym()\n",
    "sol = Iterative_Deepening_Search(problema)\n",
    "for node in sol.path():\n",
    "    print(node)"
   ]
  },
  {
   "cell_type": "markdown",
   "metadata": {},
   "source": [
    "<h2>Best First Graph Search</h2>\n",
    "<p>Search the nodes with the lowest f scores first.\n",
    "    You specify the function f(node) that you want to minimize; for example,\n",
    "    if f is a heuristic estimate to the goal, then we have greedy best\n",
    "    first search; if f is node.depth then we have breadth-first search.\n",
    "    There is a subtlety: the line \"f = memoize(f, 'f')\" means that the f\n",
    "    values will be cached on the nodes as they are computed. So after doing\n",
    "    a best first search you can examine the f values of the path returned.</p>"
   ]
  },
  {
   "cell_type": "code",
   "execution_count": 32,
   "metadata": {},
   "outputs": [],
   "source": [
    "def best_first_graph_search(problem, f):\n",
    "    f = memoize(f, 'f')\n",
    "    node = Node(problem.initial)\n",
    "    frontier = PriorityQueue('min', f)\n",
    "    frontier.append(node)\n",
    "    explored = set()\n",
    "    while frontier:\n",
    "        node = frontier.pop()\n",
    "        if problem.goal_test(node.state):\n",
    "            return node\n",
    "        explored.add(node.state)\n",
    "        for child in node.expand(problem):\n",
    "            if child.state not in explored and child not in frontier:\n",
    "                frontier.append(child)\n",
    "            elif child in frontier:\n",
    "                if f(child) < frontier[child]:\n",
    "                    del frontier[child]\n",
    "                    frontier.append(child)\n",
    "    return None"
   ]
  },
  {
   "cell_type": "code",
   "execution_count": 44,
   "metadata": {},
   "outputs": [
    {
     "ename": "TypeError",
     "evalue": "'<' not supported between instances of 'Estado' and 'Estado'",
     "output_type": "error",
     "traceback": [
      "\u001b[0;31m---------------------------------------------------------------------------\u001b[0m",
      "\u001b[0;31mTypeError\u001b[0m                                 Traceback (most recent call last)",
      "\u001b[0;32m<ipython-input-44-039a16b06a6f>\u001b[0m in \u001b[0;36m<module>\u001b[0;34m\u001b[0m\n\u001b[1;32m      1\u001b[0m \u001b[0mproblema\u001b[0m \u001b[0;34m=\u001b[0m \u001b[0mCym\u001b[0m\u001b[0;34m(\u001b[0m\u001b[0;34m)\u001b[0m\u001b[0;34m\u001b[0m\u001b[0;34m\u001b[0m\u001b[0m\n\u001b[0;32m----> 2\u001b[0;31m \u001b[0msol\u001b[0m \u001b[0;34m=\u001b[0m \u001b[0mbest_first_graph_search\u001b[0m\u001b[0;34m(\u001b[0m\u001b[0mproblema\u001b[0m\u001b[0;34m,\u001b[0m \u001b[0;32mlambda\u001b[0m \u001b[0mnode\u001b[0m\u001b[0;34m:\u001b[0m \u001b[0mnode\u001b[0m\u001b[0;34m.\u001b[0m\u001b[0mstate\u001b[0m\u001b[0;34m)\u001b[0m\u001b[0;34m\u001b[0m\u001b[0;34m\u001b[0m\u001b[0m\n\u001b[0m\u001b[1;32m      3\u001b[0m \u001b[0;32mfor\u001b[0m \u001b[0mnode\u001b[0m \u001b[0;32min\u001b[0m \u001b[0msol\u001b[0m\u001b[0;34m.\u001b[0m\u001b[0mpath\u001b[0m\u001b[0;34m(\u001b[0m\u001b[0;34m)\u001b[0m\u001b[0;34m:\u001b[0m\u001b[0;34m\u001b[0m\u001b[0;34m\u001b[0m\u001b[0m\n\u001b[1;32m      4\u001b[0m     \u001b[0mprint\u001b[0m\u001b[0;34m(\u001b[0m\u001b[0mnode\u001b[0m\u001b[0;34m)\u001b[0m\u001b[0;34m\u001b[0m\u001b[0;34m\u001b[0m\u001b[0m\n",
      "\u001b[0;32m<ipython-input-32-4695cbd50bbe>\u001b[0m in \u001b[0;36mbest_first_graph_search\u001b[0;34m(problem, f, display)\u001b[0m\n\u001b[1;32m     14\u001b[0m         \u001b[0;32mfor\u001b[0m \u001b[0mchild\u001b[0m \u001b[0;32min\u001b[0m \u001b[0mnode\u001b[0m\u001b[0;34m.\u001b[0m\u001b[0mexpand\u001b[0m\u001b[0;34m(\u001b[0m\u001b[0mproblem\u001b[0m\u001b[0;34m)\u001b[0m\u001b[0;34m:\u001b[0m\u001b[0;34m\u001b[0m\u001b[0;34m\u001b[0m\u001b[0m\n\u001b[1;32m     15\u001b[0m             \u001b[0;32mif\u001b[0m \u001b[0mchild\u001b[0m\u001b[0;34m.\u001b[0m\u001b[0mstate\u001b[0m \u001b[0;32mnot\u001b[0m \u001b[0;32min\u001b[0m \u001b[0mexplored\u001b[0m \u001b[0;32mand\u001b[0m \u001b[0mchild\u001b[0m \u001b[0;32mnot\u001b[0m \u001b[0;32min\u001b[0m \u001b[0mfrontier\u001b[0m\u001b[0;34m:\u001b[0m\u001b[0;34m\u001b[0m\u001b[0;34m\u001b[0m\u001b[0m\n\u001b[0;32m---> 16\u001b[0;31m                 \u001b[0mfrontier\u001b[0m\u001b[0;34m.\u001b[0m\u001b[0mappend\u001b[0m\u001b[0;34m(\u001b[0m\u001b[0mchild\u001b[0m\u001b[0;34m)\u001b[0m\u001b[0;34m\u001b[0m\u001b[0;34m\u001b[0m\u001b[0m\n\u001b[0m\u001b[1;32m     17\u001b[0m             \u001b[0;32melif\u001b[0m \u001b[0mchild\u001b[0m \u001b[0;32min\u001b[0m \u001b[0mfrontier\u001b[0m\u001b[0;34m:\u001b[0m\u001b[0;34m\u001b[0m\u001b[0;34m\u001b[0m\u001b[0m\n\u001b[1;32m     18\u001b[0m                 \u001b[0;32mif\u001b[0m \u001b[0mf\u001b[0m\u001b[0;34m(\u001b[0m\u001b[0mchild\u001b[0m\u001b[0;34m)\u001b[0m \u001b[0;34m<\u001b[0m \u001b[0mfrontier\u001b[0m\u001b[0;34m[\u001b[0m\u001b[0mchild\u001b[0m\u001b[0;34m]\u001b[0m\u001b[0;34m:\u001b[0m\u001b[0;34m\u001b[0m\u001b[0;34m\u001b[0m\u001b[0m\n",
      "\u001b[0;32m~/Documents/Github/Sistemas-Inteligentes-Team/AIMA_Codes_HW/utils.py\u001b[0m in \u001b[0;36mappend\u001b[0;34m(self, item)\u001b[0m\n\u001b[1;32m    738\u001b[0m     \u001b[0;32mdef\u001b[0m \u001b[0mappend\u001b[0m\u001b[0;34m(\u001b[0m\u001b[0mself\u001b[0m\u001b[0;34m,\u001b[0m \u001b[0mitem\u001b[0m\u001b[0;34m)\u001b[0m\u001b[0;34m:\u001b[0m\u001b[0;34m\u001b[0m\u001b[0;34m\u001b[0m\u001b[0m\n\u001b[1;32m    739\u001b[0m         \u001b[0;34m\"\"\"Insert item at its correct position.\"\"\"\u001b[0m\u001b[0;34m\u001b[0m\u001b[0;34m\u001b[0m\u001b[0m\n\u001b[0;32m--> 740\u001b[0;31m         \u001b[0mheapq\u001b[0m\u001b[0;34m.\u001b[0m\u001b[0mheappush\u001b[0m\u001b[0;34m(\u001b[0m\u001b[0mself\u001b[0m\u001b[0;34m.\u001b[0m\u001b[0mheap\u001b[0m\u001b[0;34m,\u001b[0m \u001b[0;34m(\u001b[0m\u001b[0mself\u001b[0m\u001b[0;34m.\u001b[0m\u001b[0mf\u001b[0m\u001b[0;34m(\u001b[0m\u001b[0mitem\u001b[0m\u001b[0;34m)\u001b[0m\u001b[0;34m,\u001b[0m \u001b[0mitem\u001b[0m\u001b[0;34m)\u001b[0m\u001b[0;34m)\u001b[0m\u001b[0;34m\u001b[0m\u001b[0;34m\u001b[0m\u001b[0m\n\u001b[0m\u001b[1;32m    741\u001b[0m \u001b[0;34m\u001b[0m\u001b[0m\n\u001b[1;32m    742\u001b[0m     \u001b[0;32mdef\u001b[0m \u001b[0mextend\u001b[0m\u001b[0;34m(\u001b[0m\u001b[0mself\u001b[0m\u001b[0;34m,\u001b[0m \u001b[0mitems\u001b[0m\u001b[0;34m)\u001b[0m\u001b[0;34m:\u001b[0m\u001b[0;34m\u001b[0m\u001b[0;34m\u001b[0m\u001b[0m\n",
      "\u001b[0;31mTypeError\u001b[0m: '<' not supported between instances of 'Estado' and 'Estado'"
     ]
    }
   ],
   "source": [
    "problema = Cym()\n",
    "sol = best_first_graph_search(problema, lambda node: node.state)  \n",
    "for node in sol.path():\n",
    "    print(node)\n"
   ]
  },
  {
   "cell_type": "markdown",
   "metadata": {},
   "source": [
    "<h2>A* Search</h2>\n",
    "<p>A* search is best-first graph search with f(n) = g(n)+h(n).</p>"
   ]
  },
  {
   "cell_type": "code",
   "execution_count": 39,
   "metadata": {},
   "outputs": [],
   "source": [
    "def astar_search(problem, h=None):\n",
    "    h = memoize(h or problem.h, 'h')\n",
    "    return best_first_graph_search(problem, lambda n: n.path_cost + h(n))"
   ]
  },
  {
   "cell_type": "code",
   "execution_count": 40,
   "metadata": {},
   "outputs": [
    {
     "ename": "AttributeError",
     "evalue": "'Cym' object has no attribute 'h'",
     "output_type": "error",
     "traceback": [
      "\u001b[0;31m---------------------------------------------------------------------------\u001b[0m",
      "\u001b[0;31mAttributeError\u001b[0m                            Traceback (most recent call last)",
      "\u001b[0;32m<ipython-input-40-99dabe9d2e79>\u001b[0m in \u001b[0;36m<module>\u001b[0;34m\u001b[0m\n\u001b[1;32m      1\u001b[0m \u001b[0mproblema\u001b[0m \u001b[0;34m=\u001b[0m \u001b[0mCym\u001b[0m\u001b[0;34m(\u001b[0m\u001b[0;34m)\u001b[0m\u001b[0;34m\u001b[0m\u001b[0;34m\u001b[0m\u001b[0m\n\u001b[0;32m----> 2\u001b[0;31m \u001b[0msol\u001b[0m \u001b[0;34m=\u001b[0m \u001b[0mastar_search\u001b[0m\u001b[0;34m(\u001b[0m\u001b[0mproblema\u001b[0m\u001b[0;34m)\u001b[0m \u001b[0;31m# TODO\u001b[0m\u001b[0;34m\u001b[0m\u001b[0;34m\u001b[0m\u001b[0m\n\u001b[0m\u001b[1;32m      3\u001b[0m \u001b[0;32mfor\u001b[0m \u001b[0mnode\u001b[0m \u001b[0;32min\u001b[0m \u001b[0msol\u001b[0m\u001b[0;34m.\u001b[0m\u001b[0mpath\u001b[0m\u001b[0;34m(\u001b[0m\u001b[0;34m)\u001b[0m\u001b[0;34m:\u001b[0m\u001b[0;34m\u001b[0m\u001b[0;34m\u001b[0m\u001b[0m\n\u001b[1;32m      4\u001b[0m     \u001b[0mprint\u001b[0m\u001b[0;34m(\u001b[0m\u001b[0mnode\u001b[0m\u001b[0;34m)\u001b[0m\u001b[0;34m\u001b[0m\u001b[0;34m\u001b[0m\u001b[0m\n",
      "\u001b[0;32m<ipython-input-39-bf6657ab7e52>\u001b[0m in \u001b[0;36mastar_search\u001b[0;34m(problem, h, display)\u001b[0m\n\u001b[1;32m      3\u001b[0m     \u001b[0mYou\u001b[0m \u001b[0mneed\u001b[0m \u001b[0mto\u001b[0m \u001b[0mspecify\u001b[0m \u001b[0mthe\u001b[0m \u001b[0mh\u001b[0m \u001b[0mfunction\u001b[0m \u001b[0mwhen\u001b[0m \u001b[0myou\u001b[0m \u001b[0mcall\u001b[0m \u001b[0mastar_search\u001b[0m\u001b[0;34m,\u001b[0m \u001b[0;32mor\u001b[0m\u001b[0;34m\u001b[0m\u001b[0;34m\u001b[0m\u001b[0m\n\u001b[1;32m      4\u001b[0m     else in your Problem subclass.\"\"\"\n\u001b[0;32m----> 5\u001b[0;31m     \u001b[0mh\u001b[0m \u001b[0;34m=\u001b[0m \u001b[0mmemoize\u001b[0m\u001b[0;34m(\u001b[0m\u001b[0mh\u001b[0m \u001b[0;32mor\u001b[0m \u001b[0mproblem\u001b[0m\u001b[0;34m.\u001b[0m\u001b[0mh\u001b[0m\u001b[0;34m,\u001b[0m \u001b[0;34m'h'\u001b[0m\u001b[0;34m)\u001b[0m\u001b[0;34m\u001b[0m\u001b[0;34m\u001b[0m\u001b[0m\n\u001b[0m\u001b[1;32m      6\u001b[0m     \u001b[0;32mreturn\u001b[0m \u001b[0mbest_first_graph_search\u001b[0m\u001b[0;34m(\u001b[0m\u001b[0mproblem\u001b[0m\u001b[0;34m,\u001b[0m \u001b[0;32mlambda\u001b[0m \u001b[0mn\u001b[0m\u001b[0;34m:\u001b[0m \u001b[0mn\u001b[0m\u001b[0;34m.\u001b[0m\u001b[0mpath_cost\u001b[0m \u001b[0;34m+\u001b[0m \u001b[0mh\u001b[0m\u001b[0;34m(\u001b[0m\u001b[0mn\u001b[0m\u001b[0;34m)\u001b[0m\u001b[0;34m)\u001b[0m\u001b[0;34m\u001b[0m\u001b[0;34m\u001b[0m\u001b[0m\n",
      "\u001b[0;31mAttributeError\u001b[0m: 'Cym' object has no attribute 'h'"
     ]
    }
   ],
   "source": [
    "problema = Cym()\n",
    "sol = astar_search(problema, h) # TODO h\n",
    "for node in sol.path():\n",
    "    print(node)"
   ]
  },
  {
   "cell_type": "markdown",
   "metadata": {},
   "source": [
    "<h2>Greedy Best First Search</h2>\n",
    "<p>-...-</p>"
   ]
  },
  {
   "cell_type": "code",
   "execution_count": null,
   "metadata": {},
   "outputs": [],
   "source": [
    "# Greedy best-first search is accomplished by specifying f(n) = h(n).\n",
    "def greedy_best_first_search(problem, h=None):\n",
    "    return best_first_graph_search(problem,)#todo"
   ]
  },
  {
   "cell_type": "code",
   "execution_count": null,
   "metadata": {},
   "outputs": [],
   "source": []
  },
  {
   "cell_type": "markdown",
   "metadata": {},
   "source": [
    "<h2>Uniform Cost Search</h2>\n",
    "<p>-...-</p>"
   ]
  },
  {
   "cell_type": "code",
   "execution_count": null,
   "metadata": {},
   "outputs": [],
   "source": [
    "def uniform_cost_search(problem):\n",
    "    return best_first_graph_search(problem, lambda node: node.path_cost)"
   ]
  },
  {
   "cell_type": "code",
   "execution_count": null,
   "metadata": {},
   "outputs": [],
   "source": []
  },
  {
   "cell_type": "markdown",
   "metadata": {},
   "source": [
    "<h2>Depth First Limited Search</h2>\n",
    "<p>Search deepest nodes in the tree first, then through successors</p>"
   ]
  },
  {
   "cell_type": "code",
   "execution_count": 42,
   "metadata": {},
   "outputs": [],
   "source": [
    "def depth_first_graph_search(problem):\n",
    "    frontier = [(Node(problem.initial))]  # Stack\n",
    "\n",
    "    explored = set()\n",
    "    while frontier:\n",
    "        node = frontier.pop()\n",
    "        if problem.goal_test(node.state):\n",
    "            return node\n",
    "        explored.add(node.state)\n",
    "        frontier.extend(child for child in node.expand(problem)\n",
    "                        if child.state not in explored and child not in frontier)\n",
    "    return None"
   ]
  },
  {
   "cell_type": "code",
   "execution_count": 43,
   "metadata": {},
   "outputs": [
    {
     "name": "stdout",
     "output_type": "stream",
     "text": [
      "<Node parent_action: None, state: (3,3) b = 1,  depth: 0>\n",
      "<Node parent_action: -(1, 1), state: (2,2) b = 0,  depth: 1>\n",
      "<Node parent_action: +(0, 1), state: (2,3) b = 1,  depth: 2>\n",
      "<Node parent_action: -(2, 0), state: (0,3) b = 0,  depth: 3>\n",
      "<Node parent_action: +(1, 0), state: (1,3) b = 1,  depth: 4>\n",
      "<Node parent_action: -(0, 2), state: (1,1) b = 0,  depth: 5>\n",
      "<Node parent_action: +(1, 1), state: (2,2) b = 1,  depth: 6>\n",
      "<Node parent_action: -(0, 2), state: (2,0) b = 0,  depth: 7>\n",
      "<Node parent_action: +(1, 0), state: (3,0) b = 1,  depth: 8>\n",
      "<Node parent_action: -(2, 0), state: (1,0) b = 0,  depth: 9>\n",
      "<Node parent_action: +(0, 1), state: (1,1) b = 1,  depth: 10>\n",
      "<Node parent_action: -(1, 1), state: (0,0) b = 0,  depth: 11>\n"
     ]
    }
   ],
   "source": [
    "problema = Cym()\n",
    "sol = depth_first_graph_search(problema) # TODO h\n",
    "for node in sol.path():\n",
    "    print(node)"
   ]
  },
  {
   "cell_type": "code",
   "execution_count": null,
   "metadata": {},
   "outputs": [],
   "source": []
  }
 ],
 "metadata": {
  "kernelspec": {
   "display_name": "Python 3",
   "language": "python",
   "name": "python3"
  },
  "language_info": {
   "codemirror_mode": {
    "name": "ipython",
    "version": 3
   },
   "file_extension": ".py",
   "mimetype": "text/x-python",
   "name": "python",
   "nbconvert_exporter": "python",
   "pygments_lexer": "ipython3",
   "version": "3.8.3"
  }
 },
 "nbformat": 4,
 "nbformat_minor": 4
}
