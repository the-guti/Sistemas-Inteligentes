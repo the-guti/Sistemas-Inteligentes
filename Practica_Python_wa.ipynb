{
 "cells": [
  {
   "cell_type": "markdown",
   "metadata": {},
   "source": [
    "[![Open In Colab](https://colab.research.google.com/assets/colab-badge.svg)](https://colab.research.google.com/github/MauricioRR-Tec/Sistemas-Inteligentes/blob/master/Notebooks/Solved/Practica_Python_wa.ipynb)"
   ]
  },
  {
   "cell_type": "markdown",
   "metadata": {
    "colab_type": "text",
    "id": "4zMzLuXxBDdY"
   },
   "source": [
    "# Ejercicios bases de Python"
   ]
  },
  {
   "cell_type": "markdown",
   "metadata": {
    "colab_type": "text",
    "id": "HAY8IBC4dM62"
   },
   "source": [
    "## Estructuras, asignación y funciones"
   ]
  },
  {
   "cell_type": "markdown",
   "metadata": {
    "colab_type": "text",
    "id": "5OKzkyU6_1kB"
   },
   "source": [
    "### 1. Creando una agenda \n",
    "\n",
    "Utiliza los conceptos básicos de python para crear una agenda telefónica. Deberás completar las funciones crear_agenda, agregar_contacto, eliminimar_contacto y buscar_contacto que se encuentran en las siguientes celdas.\n",
    "\n",
    "* ```crear_agenda()```, esta función devuelve una nueva agenda vacía, elige el tipo de dato que creas adecuado para este proposito.\n",
    "* ```agregar_contacto(agenda, nombre, numero)```, esta función debe permitir agregar un nuevo contacto a la agenda, además si un contacto ya existe con el nombre recibido entonces debes almacenar su nuevo numero sin eliminar el anterior.\n",
    "* ```buscar_contacto(agenda, nombre)```, esta función debe de regresar el o los números registados de un contacto, si el contacto no existe entonces imprimer el mensaje \"Contacto no encontrado en la agenda\".\n",
    "* ```eliminar_contacto(agenda, nombre)```, esta función permite eliminar a un contacto de la agenda, si el contacto no existe entonces imprimer el mensaje \"Contacto no encontrado en la agenda\"."
   ]
  },
  {
   "cell_type": "code",
   "execution_count": null,
   "metadata": {
    "colab": {},
    "colab_type": "code",
    "id": "81XjXcfwJYOB"
   },
   "outputs": [],
   "source": [
    "def crear_agenda():\n",
    "  # Un diccionario es una estructura que permite buscar eficientemente\n",
    "  agenda = {}\n",
    "  return agenda"
   ]
  },
  {
   "cell_type": "code",
   "execution_count": null,
   "metadata": {
    "colab": {},
    "colab_type": "code",
    "id": "QjsW0Y_M_x4j"
   },
   "outputs": [],
   "source": [
    "def agregar_contacto(agenda, nombre, numero):\n",
    "  \"\"\"\n",
    "  Tip:\n",
    "  Primero debes comprobar si existe el contacto\n",
    "  si no existe entonces crea uno nuevo y guarda\n",
    "  su nombre y numero\"\"\"\n",
    "\n",
    "  if nombre in agenda:\n",
    "    # Agregar un nuevo numero a la lista si ya existe el contacto\n",
    "    agenda[nombre].append(numero)\n",
    "  else:\n",
    "    # El contacto no existe, crearlo y asignarle una lista con un solo numero\n",
    "    # Una lista es buena opcion ya que le podemos agregar mas numeros\n",
    "    agenda[nombre] = [numero]\n",
    "  return agenda"
   ]
  },
  {
   "cell_type": "code",
   "execution_count": 3,
   "metadata": {
    "colab": {
     "base_uri": "https://localhost:8080/",
     "height": 35
    },
    "colab_type": "code",
    "id": "IuvzeJyKJYOI",
    "outputId": "6a931998-9bcf-4224-e5a8-41b2ff007a5b"
   },
   "outputs": [
    {
     "name": "stdout",
     "output_type": "stream",
     "text": [
      "{'Javier': ['1234567890']}\n"
     ]
    }
   ],
   "source": [
    "agenda = crear_agenda()\n",
    "agenda = agregar_contacto(agenda, \"Javier\", \"1234567890\")\n",
    "print(agenda)"
   ]
  },
  {
   "cell_type": "code",
   "execution_count": null,
   "metadata": {
    "colab": {},
    "colab_type": "code",
    "id": "ffxWffiqJYOL"
   },
   "outputs": [],
   "source": [
    "def buscar_contacto(agenda, nombre):\n",
    "    \"\"\"\n",
    "    Busca el contacto en la agenda, imprime su nombre y numero\n",
    "    Si tiene mas de un numero, imprime todos\n",
    "    Si el contacto no existe, imprime \"Contacto no encontrado en la agenda\"\n",
    "    \"\"\"\n",
    "\n",
    "    # Una opcion es utilizar in para saber si el nombre ya esta en la agenda\n",
    "    if nombre in agenda:\n",
    "        print(nombre)\n",
    "        # Para poder imprimer todos los numeros del contacto\n",
    "        for num in agenda[nombre]:\n",
    "            print(num)\n",
    "    else:\n",
    "        \"Contacto no encontrado en la agenda\"\n",
    "    return"
   ]
  },
  {
   "cell_type": "code",
   "execution_count": 5,
   "metadata": {
    "colab": {
     "base_uri": "https://localhost:8080/",
     "height": 106
    },
    "colab_type": "code",
    "id": "-Z1Fxb0gJYOO",
    "outputId": "0449b981-5848-43bc-b07e-7f4cac2586cd"
   },
   "outputs": [
    {
     "name": "stdout",
     "output_type": "stream",
     "text": [
      "Javier\n",
      "1234567890\n",
      "Javier\n",
      "1234567890\n",
      "0987654321\n"
     ]
    }
   ],
   "source": [
    "buscar_contacto(agenda, \"Javier\")\n",
    "agenda = agregar_contacto(agenda, \"Javier\", \"0987654321\")\n",
    "buscar_contacto(agenda, \"Javier\")"
   ]
  },
  {
   "cell_type": "code",
   "execution_count": null,
   "metadata": {
    "colab": {},
    "colab_type": "code",
    "id": "hBgDXUoNJYOS"
   },
   "outputs": [],
   "source": [
    "def eliminar_contacto(agenda, nombre):\n",
    "  \"\"\"\n",
    "  Elimina el contacto de la agenda\n",
    "  si el contacto no existe imprime \"Contacto no encontrado en la agenda\"\n",
    "  \"\"\"\n",
    "  # Podemos verificar que el contacto existe con in y eliminarlo con del\n",
    "  if nombre in agenda:\n",
    "    del agenda[nombre]\n",
    "  else:\n",
    "    \"Contacto no encontrado en la agenda\"\n",
    "  return agenda"
   ]
  },
  {
   "cell_type": "code",
   "execution_count": null,
   "metadata": {
    "colab": {},
    "colab_type": "code",
    "id": "RkNtzllbBirX"
   },
   "outputs": [],
   "source": [
    "agenda = eliminar_contacto(agenda, \"Javier\")"
   ]
  },
  {
   "cell_type": "markdown",
   "metadata": {
    "colab_type": "text",
    "id": "3nzzkH6EA88D"
   },
   "source": [
    "# Ejercicios estadística"
   ]
  },
  {
   "cell_type": "markdown",
   "metadata": {
    "colab_type": "text",
    "id": "e5g5CAaOc01h"
   },
   "source": [
    "### Función suma\n",
    "\n",
    "$$\n",
    "    suma(a) = \\sum_{i=1}^{n}a_i\n",
    "$$"
   ]
  },
  {
   "cell_type": "code",
   "execution_count": null,
   "metadata": {
    "colab": {},
    "colab_type": "code",
    "id": "RxWbpZ42c07g"
   },
   "outputs": [],
   "source": [
    "def suma(x):\n",
    "  # Usando la funcion sum de python para sumar los elementos de la lista\n",
    "  suma = sum(x)\n",
    "  return suma"
   ]
  },
  {
   "cell_type": "code",
   "execution_count": null,
   "metadata": {
    "colab": {},
    "colab_type": "code",
    "id": "KWrzXhAYJYOc"
   },
   "outputs": [],
   "source": [
    "assert suma([1, 2, 3, 4, 5]) == 15, \"Error\""
   ]
  },
  {
   "cell_type": "markdown",
   "metadata": {
    "colab_type": "text",
    "id": "Hc30xEPMc1QC"
   },
   "source": [
    "### Función promedio.\n",
    "\n",
    "$$\n",
    "\t\\bar{x} = \\dfrac{\\sum_{i=1}^{n}x_i}{n}\n",
    "$$"
   ]
  },
  {
   "cell_type": "code",
   "execution_count": null,
   "metadata": {
    "colab": {},
    "colab_type": "code",
    "id": "2KyU6PyCc1VM"
   },
   "outputs": [],
   "source": [
    "def promedio(x):\n",
    "  # usando sum y len para calcular el promedio\n",
    "  promedio = sum(x)/len(x)\n",
    "  return promedio"
   ]
  },
  {
   "cell_type": "code",
   "execution_count": null,
   "metadata": {
    "colab": {},
    "colab_type": "code",
    "id": "_-lnp4iXJYOj"
   },
   "outputs": [],
   "source": [
    "assert promedio([1, 2, 3, 4, 5]) == 3, \"Error en promedio\""
   ]
  },
  {
   "cell_type": "markdown",
   "metadata": {
    "colab_type": "text",
    "id": "ImMoE5w4c1of"
   },
   "source": [
    "### Función varianza.\n",
    "$$\n",
    "\\sigma^2 = \\frac{1}{n} \\sum_{i=1}^{n}(x_i - \\bar{x})^2\n",
    "$$"
   ]
  },
  {
   "cell_type": "code",
   "execution_count": null,
   "metadata": {
    "colab": {},
    "colab_type": "code",
    "id": "h0w2PHhLc1tG"
   },
   "outputs": [],
   "source": [
    "def var(x):\n",
    "  # calcular la media una vez usando la funcion definida\n",
    "  mean = promedio(x)\n",
    "  # Calcular la varianza usando list comprehension\n",
    "  # A cada elemento se le resta la media y se potencia al cuadrado\n",
    "  var = sum([(x_i - mean)**2 for x_i in x])/len(x)\n",
    "  return var"
   ]
  },
  {
   "cell_type": "code",
   "execution_count": null,
   "metadata": {
    "colab": {},
    "colab_type": "code",
    "id": "tVc0oMAjJYOq"
   },
   "outputs": [],
   "source": [
    "assert var([1, 2, 3, 4, 5]) == 2, \"Error en var\""
   ]
  },
  {
   "cell_type": "markdown",
   "metadata": {
    "colab_type": "text",
    "id": "fxxJeFhbA9Cq"
   },
   "source": [
    "# Ejercicios álgebra lineal"
   ]
  },
  {
   "cell_type": "markdown",
   "metadata": {
    "colab_type": "text",
    "id": "6dXp-owNeqP9"
   },
   "source": [
    "## Vectores con listas"
   ]
  },
  {
   "cell_type": "markdown",
   "metadata": {
    "colab_type": "text",
    "id": "9Du0_NsNc81H"
   },
   "source": [
    "### Ones"
   ]
  },
  {
   "cell_type": "markdown",
   "metadata": {
    "colab_type": "text",
    "id": "DKp9wDLPEZdz"
   },
   "source": [
    "Completa la función ones1D que recibe como parámetros un entero $n$ y retorna una lista de tamaño $n$ con todos sus elementos con el valor $1$.\n",
    "\n",
    "Ejemplo:\n",
    "\n",
    "```\n",
    ">>> ones(5)\n",
    "[1, 1, 1, 1, 1]\n",
    "```\n",
    "\n"
   ]
  },
  {
   "cell_type": "code",
   "execution_count": null,
   "metadata": {
    "colab": {},
    "colab_type": "code",
    "id": "l4j5ka46EulY"
   },
   "outputs": [],
   "source": [
    "def ones_1d(n):\n",
    "  # Inicializar una lista con unos mediante list comprehension\n",
    "  ones_list = [1 for i in range(n)]\n",
    "  return ones_list  "
   ]
  },
  {
   "cell_type": "markdown",
   "metadata": {
    "colab_type": "text",
    "id": "TBYV7LYqdSJo"
   },
   "source": [
    "Ejecuta la siguiente celda para comprobar la función ones1D:"
   ]
  },
  {
   "cell_type": "code",
   "execution_count": 15,
   "metadata": {
    "colab": {
     "base_uri": "https://localhost:8080/",
     "height": 35
    },
    "colab_type": "code",
    "id": "QUlEotVIdRno",
    "outputId": "deb2a5ff-45ca-4fb5-a283-34729c331d17"
   },
   "outputs": [
    {
     "name": "stdout",
     "output_type": "stream",
     "text": [
      "La funcion es correcta\n"
     ]
    }
   ],
   "source": [
    "assert len(ones_1d(10)) == 10 and  ones_1d(3).count(1) == 3 and sum(ones_1d(5)) == 5  , \"error en la funcion ones_1d\"\n",
    "print(\"La funcion es correcta\")"
   ]
  },
  {
   "cell_type": "markdown",
   "metadata": {
    "colab_type": "text",
    "id": "N-eaP4PDJYO3"
   },
   "source": [
    "### Ones 2D"
   ]
  },
  {
   "cell_type": "markdown",
   "metadata": {
    "colab_type": "text",
    "id": "lxOMWQXXEZp3"
   },
   "source": [
    "Completa la función ones_2d que recibe como parámetros un entero $n$ y un entero $m$ y retorna una lista con $n$ sub-listas cada una de tamaño $m$ con todos sus elementos con el valor 1. En otras palabras, una matriz $n \\times m$ con sus elementos iniciados con valor $1$.\n",
    "\n",
    "Ejemplo:\n",
    "\n",
    "\n",
    "\n",
    "```\n",
    ">>> ones_2d(2, 3)\n",
    "[[1, 1, 1], [1, 1, 1]]\n",
    "```\n",
    "\n"
   ]
  },
  {
   "cell_type": "code",
   "execution_count": null,
   "metadata": {
    "colab": {},
    "colab_type": "code",
    "id": "-xfFmttxFRCw"
   },
   "outputs": [],
   "source": [
    "def ones_2d(m, n):\n",
    "  # Dos list comprehension para una lista de listas\n",
    "  ones_ll = [[1 for i in range(n)] for j in range(m)]\n",
    "  return ones_ll"
   ]
  },
  {
   "cell_type": "code",
   "execution_count": 17,
   "metadata": {
    "colab": {
     "base_uri": "https://localhost:8080/",
     "height": 35
    },
    "colab_type": "code",
    "id": "XVZT7ZB1JYO7",
    "outputId": "20e5a0e8-5510-4b31-afe8-fca13fe309b9"
   },
   "outputs": [
    {
     "data": {
      "text/plain": [
       "[[1, 1], [1, 1], [1, 1]]"
      ]
     },
     "execution_count": 17,
     "metadata": {
      "tags": []
     },
     "output_type": "execute_result"
    }
   ],
   "source": [
    "ones_2d(3, 2)"
   ]
  },
  {
   "cell_type": "markdown",
   "metadata": {
    "colab_type": "text",
    "id": "yugjWXI9eI4P"
   },
   "source": [
    "Ejecuta la siguiente celda para comprobar la función ones2D:"
   ]
  },
  {
   "cell_type": "code",
   "execution_count": 18,
   "metadata": {
    "colab": {
     "base_uri": "https://localhost:8080/",
     "height": 35
    },
    "colab_type": "code",
    "id": "i7sZXWsveJBC",
    "outputId": "a92ac041-debb-4375-f772-e57a5d57787b"
   },
   "outputs": [
    {
     "name": "stdout",
     "output_type": "stream",
     "text": [
      "La funcion es correcta\n"
     ]
    }
   ],
   "source": [
    "assert len(ones_2d(2, 3)) == 2 and len(ones_2d(2, 3)[0]) == 3 and sum([x_i for sl in ones_2d(3, 2) for x_i in sl]) == 6 , \"error en la funcion ones_2d\"\n",
    "print(\"La funcion es correcta\")"
   ]
  },
  {
   "cell_type": "markdown",
   "metadata": {
    "colab_type": "text",
    "id": "uMZEXZ1ZJYPB"
   },
   "source": [
    "### Producto punto (inner)"
   ]
  },
  {
   "cell_type": "markdown",
   "metadata": {
    "colab_type": "text",
    "id": "oVqCzs6PJYPC"
   },
   "source": [
    "Completa la función ones_2d que recibe como parametros dos listas a, b de la misma longitúd y retorna el producto punto de ambos.\n",
    "\n",
    "El producto punto está definido como:\n",
    "\n",
    "$$a = [a_1 a_2 ... a_n] \\: y \\: b = [b_1 b_2 ... b_n]$$\n",
    "\n",
    "$$\n",
    "a \\cdot b = a_1*b_1 + a_2*b_2 + \\dots + a_n*b_n\n",
    "$$"
   ]
  },
  {
   "cell_type": "code",
   "execution_count": null,
   "metadata": {
    "colab": {},
    "colab_type": "code",
    "id": "OvNCcnXLBBc0"
   },
   "outputs": [],
   "source": [
    "def inner(a, b):\n",
    "  inner = 0\n",
    "  # Comprobando que a y b tengan el mismo tamanno\n",
    "  if len(a) != len(b):\n",
    "    return \"Error\"\n",
    "  # Podemos usar un for\n",
    "  for i in range(len(a)):\n",
    "    inner += a[i] * b[i]\n",
    "  # Algo mas Pythonico con un for y zip\n",
    "  \"\"\"inner = sum(ab[0]*ab[1] for ab in zip(a, b))\"\"\"\n",
    "  return inner"
   ]
  },
  {
   "cell_type": "code",
   "execution_count": 20,
   "metadata": {
    "colab": {
     "base_uri": "https://localhost:8080/",
     "height": 35
    },
    "colab_type": "code",
    "id": "ub0hokrpJYPF",
    "outputId": "1685798d-b21a-42a8-a7f6-b2bef2ec8163"
   },
   "outputs": [
    {
     "name": "stdout",
     "output_type": "stream",
     "text": [
      "Correcto\n"
     ]
    }
   ],
   "source": [
    "assert inner([1, 2, 3], [1, 2 ,3]) == 14, \"Error en inner\"\n",
    "print(\"Correcto\")"
   ]
  },
  {
   "cell_type": "markdown",
   "metadata": {
    "colab_type": "text",
    "id": "6B7dwCC7eqnL"
   },
   "source": [
    "## Matrices con listas de listas"
   ]
  },
  {
   "cell_type": "markdown",
   "metadata": {
    "colab_type": "text",
    "id": "l36RNkUqexzU"
   },
   "source": [
    "### Matriz identidad\n",
    "$$\n",
    "\tI_{ij} = \\begin{cases}\n",
    "\t\t1 & i=j\\\\\n",
    "\t\t0 & i \\neq j\\\\\n",
    "\t\\end{cases}\n",
    "$$"
   ]
  },
  {
   "cell_type": "code",
   "execution_count": null,
   "metadata": {
    "colab": {},
    "colab_type": "code",
    "id": "afcnX6E_eqvP"
   },
   "outputs": [],
   "source": [
    "def eye(n):\n",
    "  '''\n",
    "  Esta funcion debe regresar la matriz identidad de tamano nxn\n",
    "  '''\n",
    "  # Dos list comprehensions y convertir bollean a entero cuando \n",
    "  # se cumple la condicion i==j\n",
    "  I = [[int(i==j) for i in range(n)] for j in range(n)]\n",
    "  return I"
   ]
  },
  {
   "cell_type": "code",
   "execution_count": 22,
   "metadata": {
    "colab": {
     "base_uri": "https://localhost:8080/",
     "height": 35
    },
    "colab_type": "code",
    "id": "MjL-8tVtJYPM",
    "outputId": "681d447f-01d8-40b5-930e-2c35511dc994"
   },
   "outputs": [
    {
     "data": {
      "text/plain": [
       "[[1, 0, 0], [0, 1, 0], [0, 0, 1]]"
      ]
     },
     "execution_count": 22,
     "metadata": {
      "tags": []
     },
     "output_type": "execute_result"
    }
   ],
   "source": [
    "eye(3)"
   ]
  },
  {
   "cell_type": "code",
   "execution_count": null,
   "metadata": {
    "colab": {},
    "colab_type": "code",
    "id": "RLG7IMVfJYPO"
   },
   "outputs": [],
   "source": [
    "assert eye(2) == [[1, 0], [0, 1]], \"Error en eye\""
   ]
  },
  {
   "cell_type": "markdown",
   "metadata": {
    "colab_type": "text",
    "id": "jLXu_k7CfCqF"
   },
   "source": [
    "### Matriz transpuesta\n",
    "\n",
    "$$C = A^T \\Leftrightarrow c_{ij} = a{ji}$$\n",
    "\n",
    "Por ejemplo, si:\n",
    "\t$$\n",
    "\tA = \\begin{bmatrix}\n",
    "\ta_{11} & a_{12}  \\\\\n",
    "\ta_{21} & a_{22}  \\\\\n",
    "\ta_{31} & a_{32}  \\\\\n",
    "\t\\end{bmatrix}\n",
    "\t$$\n",
    "\tentonces\n",
    "\t$$\n",
    "\tA^T = \\begin{bmatrix}\n",
    "\ta_{11} & a_{21} & a_{31} \\\\\n",
    "\ta_{12} & a_{22} & a_{32} \\\\\n",
    "\t\\end{bmatrix}\n",
    "\t$$"
   ]
  },
  {
   "cell_type": "code",
   "execution_count": null,
   "metadata": {
    "colab": {},
    "colab_type": "code",
    "id": "zKWY09JhfEfa"
   },
   "outputs": [],
   "source": [
    "def traspose(A):\n",
    "  '''\n",
    "  Esta funcion debe regresar la transpuesta de A\n",
    "  '''\n",
    "  # La traspuesta invierte las posiciones de los elementos\n",
    "  # pasar de ij a ji usando list comprehensions\n",
    "  A_t = [[A[j][i] for j in range(len(A))] for i in range(len(A[0]))]\n",
    "  return A_t"
   ]
  },
  {
   "cell_type": "code",
   "execution_count": 25,
   "metadata": {
    "colab": {
     "base_uri": "https://localhost:8080/",
     "height": 35
    },
    "colab_type": "code",
    "id": "oilGiFaxJYPV",
    "outputId": "fc078b81-88a1-4bb8-ae28-9d6197fd38f9"
   },
   "outputs": [
    {
     "data": {
      "text/plain": [
       "[[1, 4], [2, 5], [3, 6]]"
      ]
     },
     "execution_count": 25,
     "metadata": {
      "tags": []
     },
     "output_type": "execute_result"
    }
   ],
   "source": [
    "A = [[1 , 2, 3], [4, 5, 6]]\n",
    "\n",
    "traspose(A)"
   ]
  },
  {
   "cell_type": "code",
   "execution_count": null,
   "metadata": {
    "colab": {},
    "colab_type": "code",
    "id": "26eBKuB0JYPX"
   },
   "outputs": [],
   "source": [
    "assert traspose([[1, 2], [3, 4], [5, 6]]) == [[1, 3, 5], [2, 4, 6]], \"Error en traspose\""
   ]
  },
  {
   "cell_type": "markdown",
   "metadata": {
    "colab_type": "text",
    "id": "v-3M7y5CJYPZ"
   },
   "source": [
    "### Valida multiplicación\n",
    "\n",
    "```True``` si\n",
    "$$A \\qquad es \\qquad mxn$$\n",
    "y\n",
    "$$B \\qquad es \\qquad nxp$$\n",
    "```False``` en otro caso"
   ]
  },
  {
   "cell_type": "code",
   "execution_count": null,
   "metadata": {
    "colab": {},
    "colab_type": "code",
    "id": "3qc6dG6HJYPa"
   },
   "outputs": [],
   "source": [
    "def validate_mat_mul(A, B):\n",
    "  # Solo tenemos que probar que n = len(A[0]) el numero de columnas en A\n",
    "  # sea igual a n = len(B), el numero de filas en B\n",
    "  val = False\n",
    "  # Una asignacion con condicionales\n",
    "  val = True if len(A[0]) == len(B) else False\n",
    "  return val"
   ]
  },
  {
   "cell_type": "code",
   "execution_count": null,
   "metadata": {
    "colab": {},
    "colab_type": "code",
    "id": "zxTcfQgRJYPc"
   },
   "outputs": [],
   "source": [
    "assert validate_mat_mul([[1, 2], [3, 4]], [[5, 6], [7, 8]]) and \\\n",
    "validate_mat_mul([[1, 2], [3, 4], [5, 6]], [[1, 2, 3], [4, 5, 6]]) and \\\n",
    "not validate_mat_mul([[1, 2, 3], [4, 5, 6], [7, 8, 9]], [[1, 2], [3, 4]]), \"Error en validate_mat_mul\""
   ]
  },
  {
   "cell_type": "markdown",
   "metadata": {
    "colab_type": "text",
    "id": "RY2TgoGye3pV"
   },
   "source": [
    "### Multiplicación de matrices\n",
    "\n",
    "Si $A \\in \\mathbb{R}^{m \\times n}$ y $B \\in \\mathbb{R}^{n \\times p}$ entonces:\n",
    "$$\n",
    "C = A B \\in \\mathbb{R}^{m \\times p}\\Leftrightarrow c_{ij} = \\sum_{k=1}^{n}a_{ik} b_{kj}\n",
    "$$"
   ]
  },
  {
   "cell_type": "code",
   "execution_count": null,
   "metadata": {
    "colab": {},
    "colab_type": "code",
    "id": "DxFQFm51e-A1"
   },
   "outputs": [],
   "source": [
    "def mat_mul(A, B):\n",
    "  # Tenemos que observar que vamos a itera en tres variables i, j y k\n",
    "  # Tres fors\n",
    "  C = [[0 for i in range(len(B[0]))] for j in range(len(A))]\n",
    "  for i in range(len(A)):\n",
    "    for j in range(len(B[0])):\n",
    "      for k in range(len(B)):\n",
    "        C[i][j] += A[i][k]*B[k][j]\n",
    "\n",
    "  # En una linea con list comprehension\n",
    "  \"\"\"C = [[sum([A[i][k]*B[k][j] for k in range(len(B))]) for j in range(len(B[0]))] for i in range(len(A))]\"\"\"\n",
    "  return C"
   ]
  },
  {
   "cell_type": "code",
   "execution_count": 30,
   "metadata": {
    "colab": {
     "base_uri": "https://localhost:8080/",
     "height": 35
    },
    "colab_type": "code",
    "id": "Cd6pyNhRJYPj",
    "outputId": "a87b84c5-f24d-42ae-fe9d-1157addc0add"
   },
   "outputs": [
    {
     "data": {
      "text/plain": [
       "[[6, 6], [14, 14], [22, 22]]"
      ]
     },
     "execution_count": 30,
     "metadata": {
      "tags": []
     },
     "output_type": "execute_result"
    }
   ],
   "source": [
    "mat_mul([[1, 2], [3, 4], [5, 6]], [[2, 2], [2, 2]])"
   ]
  },
  {
   "cell_type": "code",
   "execution_count": null,
   "metadata": {
    "colab": {},
    "colab_type": "code",
    "id": "_2MLisqwJYPl"
   },
   "outputs": [],
   "source": [
    "assert mat_mul([[1, 2], [3, 4], [5, 6]], [[2, 2], [2, 2]]) == [[6, 6], [14, 14], [22, 22]], \"Error en mat_mul\""
   ]
  }
 ],
 "metadata": {
  "kernelspec": {
   "display_name": "Python 3",
   "language": "python",
   "name": "python3"
  },
  "language_info": {
   "codemirror_mode": {
    "name": "ipython",
    "version": 3
   },
   "file_extension": ".py",
   "mimetype": "text/x-python",
   "name": "python",
   "nbconvert_exporter": "python",
   "pygments_lexer": "ipython3",
   "version": "3.7.6"
  }
 },
 "nbformat": 4,
 "nbformat_minor": 4
}
