{
  "nbformat": 4,
  "nbformat_minor": 0,
  "metadata": {
    "kernelspec": {
      "display_name": "NewEnv",
      "language": "python",
      "name": "newenv"
    },
    "language_info": {
      "codemirror_mode": {
        "name": "ipython",
        "version": 3
      },
      "file_extension": ".py",
      "mimetype": "text/x-python",
      "name": "python",
      "nbconvert_exporter": "python",
      "pygments_lexer": "ipython3",
      "version": "3.8.5"
    },
    "colab": {
      "name": "Examen Parcial 1 - IAWoAns.ipynb",
      "provenance": [],
      "collapsed_sections": [
        "8L49iTOwRpE5",
        "tZ7zcyqwRpFF",
        "4Qjii_DaRpFG",
        "m3L2CamlRpFH",
        "2n7cAPfyRpFI",
        "3Sgzao3-RpFL",
        "OeTQTnvdRpFP",
        "nNgbzXwDRpFS",
        "CzK_8XWLRpFT",
        "4qR-dn_IRpFV",
        "8En2zRx2RpFY",
        "WAyU5ttERpFb",
        "f76Aa2fNRpFe",
        "SWdCrbjiRpFh",
        "RXJ60AljRpFk",
        "qX64XacPRpFv",
        "9GsUskqsRpGH"
      ],
      "include_colab_link": true
    }
  },
  "cells": [
    {
      "cell_type": "markdown",
      "metadata": {
        "id": "view-in-github",
        "colab_type": "text"
      },
      "source": [
        "<a href=\"https://colab.research.google.com/github/axgtz/Sistemas-Inteligentes-Team/blob/master/Examen_Parcial_1_IAWoAns.ipynb\" target=\"_parent\"><img src=\"https://colab.research.google.com/assets/colab-badge.svg\" alt=\"Open In Colab\"/></a>"
      ]
    },
    {
      "cell_type": "markdown",
      "metadata": {
        "id": "P3PAyczcRpE3",
        "colab_type": "text"
      },
      "source": [
        "# Examen Parcial 1 - Inteligencia Artificial\n",
        "\n",
        "---\n",
        "\n",
        "Inidicaciones: El examen consta de preguntas y ejercicios, las cuales abordan los temas vistos en los Módulos 1 y 2.\n",
        "\n",
        "En la parte teórica, se evaluará la correcta descripción de los términos.\n",
        "Nota: las siguientes preguntas, algunas serán de opción múltiple, otras de Cierto o Falso (y complementando la respuesta) y algunas serán abiertas. En caso de pedir seleccionar la respuesta, marque con ' ** ** ' para hacer negrilla la respuesta(s) seleccionada(s).\n",
        "\n",
        "En la parte práctica, se evalua que el código funcione y se logren los objetivos\n",
        "\n",
        "Fecha de liberación del examen: Viernes 11 de septiembre a partir de medio día.\n",
        "Fecha límite de entrega: Viernes 18 de septiembre hasta las 23:59 hrs\n",
        "\n",
        "Esta notebook deberá contener el nombre completo, matrícula y el link correspondiente al GitHub de cada integrante.\n",
        "\n",
        "En caso de no tener la información aquí solicitada, no se evaluará el examen."
      ]
    },
    {
      "cell_type": "markdown",
      "metadata": {
        "id": "8akJTLpQRpE4",
        "colab_type": "text"
      },
      "source": [
        "<h3>Integrantes</h3>\n",
        "<ol>\n",
        "    <li>Roberto Gutierrez - A01019608 - https://github.com/axgtz/Sistemas-Inteligentes-Team</li>\n",
        "    <li>Eduardo Badillo - A01020716 - https://github.com/axgtz/Sistemas-Inteligentes-Team</li>\n",
        "    <li>Emilio Hernandez - A01336418  - https://github.com/axgtz/Sistemas-Inteligentes-Team</li>\n",
        "</ol>"
      ]
    },
    {
      "cell_type": "markdown",
      "metadata": {
        "id": "8L49iTOwRpE5",
        "colab_type": "text"
      },
      "source": [
        "---\n",
        "# Sección 1\n",
        "\n",
        "### (10 puntos)\n",
        "\n",
        "---"
      ]
    },
    {
      "cell_type": "markdown",
      "metadata": {
        "id": "rw9jB4NHRpE5",
        "colab_type": "text"
      },
      "source": [
        "#### P1.- El campo de la inteligencia artificial solamente trata de entender las entidades inteligentes ¿Cierto o Falso?  ¿Porqué?\n",
        "(Valor: 1 Punto)"
      ]
    },
    {
      "cell_type": "markdown",
      "metadata": {
        "id": "lXF8_iawRpE6",
        "colab_type": "text"
      },
      "source": [
        "<p>Falso, también estudia los ambientes en los que los agentes se desenvuelven.</p>"
      ]
    },
    {
      "cell_type": "markdown",
      "metadata": {
        "id": "lvfiOcXeRpE7",
        "colab_type": "text"
      },
      "source": [
        "#### P2.- ¿Qué es la inteligencia artificial?\n",
        "(Valor: 1 Punto)"
      ]
    },
    {
      "cell_type": "markdown",
      "metadata": {
        "id": "YkrCLWLyRpE7",
        "colab_type": "text"
      },
      "source": [
        "A) Aquella que hace posible que los agentes aprendan, ajustando sus actuarios para que caminen como humanos\n",
        "\n",
        "B) Aquella que hace posible que las máquinas tomen decisiones y desempeñen ejercicios como humanos\n",
        "\n",
        "C) Aquella que hace posible que las máquinas aprendan de la inexperiencia y se ajusten al ambiente\n",
        "\n",
        "**D) Aquella que hace posible que las máquinas aprendan de la experiencia, se ajusten y puedan desempeñar tareas como humanos**"
      ]
    },
    {
      "cell_type": "markdown",
      "metadata": {
        "id": "aGwlkpZfRpE8",
        "colab_type": "text"
      },
      "source": [
        "#### P3.- ¿Las máquinas ajustan sus respuestas basadas en sus entradas actuales? ¿Cierto o Falso? ¿Porqué?\n",
        "(Valor: 1 Punto)"
      ]
    },
    {
      "cell_type": "markdown",
      "metadata": {
        "id": "j1ujGGsgRpE9",
        "colab_type": "text"
      },
      "source": [
        "Cierto, ajustan su respuesta con las entradas nuevas pero también utilizan experiencias pasadas para responder."
      ]
    },
    {
      "cell_type": "markdown",
      "metadata": {
        "id": "a5s8v2dQRpE9",
        "colab_type": "text"
      },
      "source": [
        "#### P4.- La inteligencia artificial se puede clasificar en 4 categorías, selecciona la respuesta correcta:\n",
        "\n",
        "(Valor: 1 Punto)"
      ]
    },
    {
      "cell_type": "markdown",
      "metadata": {
        "id": "hKUa3R19RpE-",
        "colab_type": "text"
      },
      "source": [
        "A) Pensar de forma humana, Pensar racionalmente, Actuar racionalmente y Actuar de forma homúncula.\n",
        "\n",
        "B) Pensar de forma humuna, Pensar racionalmente, Actuar racionalmente y Actuar de forma humana.\n",
        "\n",
        "**C) Pensar de forma humana, Pensar racionalmente, Actuar racionalmente y Actuar de forma humana.**\n",
        "\n",
        "D) Pensar de forma humana, Pensar irracionalmente, Actuar racionalmente y Actuar de forma homúncula."
      ]
    },
    {
      "cell_type": "markdown",
      "metadata": {
        "id": "Xg3IlIaQRpE_",
        "colab_type": "text"
      },
      "source": [
        "C"
      ]
    },
    {
      "cell_type": "markdown",
      "metadata": {
        "id": "Cv_LKoIORpE_",
        "colab_type": "text"
      },
      "source": [
        "#### P5.- ¿Cómo es que el humano piensa?\n",
        "\n",
        "(Valor: 1 Punto)"
      ]
    },
    {
      "cell_type": "markdown",
      "metadata": {
        "id": "FKjajK5aRpFA",
        "colab_type": "text"
      },
      "source": [
        "El humano piensa de forma deductiva o inductiva para arribar a conclusiones, utilizando silogismos de forma intuitiva."
      ]
    },
    {
      "cell_type": "markdown",
      "metadata": {
        "id": "IlPK6I_NRpFA",
        "colab_type": "text"
      },
      "source": [
        "#### P6.- En el pensamiento racional, ¿qué son los silogismos?\n",
        "\n",
        "(Valor: 1 Punto)"
      ]
    },
    {
      "cell_type": "markdown",
      "metadata": {
        "id": "CQaYzdhJRpFB",
        "colab_type": "text"
      },
      "source": [
        "Un silogismo es un razonamiento deductivo en el que a partir de ciertos argumentos que se suponen verdaderos se arriba a una conclusión lógica.\n",
        "Es una cadena de consecuencias lógicas. <br>\n",
        "<em>'Z' resulta necesariamente de 'X' y 'Y', si 'X' y 'Y' son verdaderas y 'Z' es diferente de 'X' y 'Y'</em>"
      ]
    },
    {
      "cell_type": "markdown",
      "metadata": {
        "id": "kMl-TMqlRpFB",
        "colab_type": "text"
      },
      "source": [
        "#### P7.- Procesamiento de lenguaje natural, representación del conocimiento, razonamiento automático... son ejemplos de ?\n",
        "\n",
        "(Valor: 1 Punto)"
      ]
    },
    {
      "cell_type": "markdown",
      "metadata": {
        "id": "orM0xuCMRpFB",
        "colab_type": "text"
      },
      "source": [
        "Capacidades que una máquina debe tener para pasar la prueba de Turing."
      ]
    },
    {
      "cell_type": "markdown",
      "metadata": {
        "id": "1-IRc7a-RpFC",
        "colab_type": "text"
      },
      "source": [
        "#### P8.- De la acción racional, que se espera que los agentes computacionales realicen?\n",
        "\n",
        "(Valor: 1 Punto)"
      ]
    },
    {
      "cell_type": "markdown",
      "metadata": {
        "id": "CVBA862lRpFD",
        "colab_type": "text"
      },
      "source": [
        "Se espera que realicen inferencias correctas. Porque una forma de actuar racionalmente es llegar lógicamente a la conclusión de que una acción particular dará resultado a un efecto o meta deseada, y se debe actuar en base en esa relación lógica.\n",
        "<ol>\n",
        "    <li>Operar de forma autónoma</li>\n",
        "    <li>Percibir el ambiente</li>\n",
        "    <li>Persistir de forma prolongada</li>\n",
        "    <li>Adaptarse al cambio</li>\n",
        "    <li>Crear y perseguir metas</li>\n",
        "<ol/>"
      ]
    },
    {
      "cell_type": "markdown",
      "metadata": {
        "id": "O7MMdJDFRpFD",
        "colab_type": "text"
      },
      "source": [
        "#### P9.- El aprendizaje no supervisado se puede dividir en 2 categorías de problemas: Agrupamiento y Asociación. ¿Cúal es la diferencia entre ellas?\n",
        "\n",
        "(Valor: 1 Punto)"
      ]
    },
    {
      "cell_type": "markdown",
      "metadata": {
        "id": "cRL3pZ0PRpFE",
        "colab_type": "text"
      },
      "source": [
        "Ambas metodologías no cuentan con entrenamiento, metas u otras métricas a priori a la ingesta de los datos. Pero el agrupamiento busca clasificar los datos con características similares en sets, mientras que la asociación busca relaciones o dependencias entre los datos, sean entre diferentes datos o entre diferentes grupos de datos. Las dos técnicas son efectivas trabajando con datos descriptivos o categóricos (no numéricos) pero la asociación se desempeña pobremente con datos numéricos."
      ]
    },
    {
      "cell_type": "markdown",
      "metadata": {
        "id": "lY3fpQj_RpFE",
        "colab_type": "text"
      },
      "source": [
        "#### P10.- ¿Diferencia entre Inteligencia Artificial y Aprendizaje Máquina?\n",
        "\n",
        "(Valor: 1 Punto)"
      ]
    },
    {
      "cell_type": "markdown",
      "metadata": {
        "id": "NbYMmMlMRpFF",
        "colab_type": "text"
      },
      "source": [
        "La inteligencia artificial es un conjunto de técnicas que le permite a las computadoras mimetizar el razonamiento y pensamiento humano. Mientras que el aprendizaje maquina es un subconjunto de la IA, que utiliza algoritmos y estadística para permitir a las máquinas mejorar con la experiencia."
      ]
    },
    {
      "cell_type": "markdown",
      "metadata": {
        "id": "tZ7zcyqwRpFF",
        "colab_type": "text"
      },
      "source": [
        "---\n",
        "---\n",
        "\n",
        "# Sección 2\n",
        "\n",
        "### (21 puntos)\n",
        "\n",
        "---"
      ]
    },
    {
      "cell_type": "markdown",
      "metadata": {
        "id": "4Qjii_DaRpFG",
        "colab_type": "text"
      },
      "source": [
        "#### P1.- ¿Qué es un agente?\n",
        "\n",
        "(Valor: 1 Punto)"
      ]
    },
    {
      "cell_type": "markdown",
      "metadata": {
        "id": "eLiYrFMuRpFG",
        "colab_type": "text"
      },
      "source": [
        "Cualquier cosa que pueda percibir su ambiente a través de sensores y actuar en ese ambiente a través de actuadores."
      ]
    },
    {
      "cell_type": "markdown",
      "metadata": {
        "id": "m3L2CamlRpFH",
        "colab_type": "text"
      },
      "source": [
        "#### P2.- ¿Diferencia entre agente humano, robótico y de software?\n",
        "\n",
        "(Valor: 1 Punto)"
      ]
    },
    {
      "cell_type": "markdown",
      "metadata": {
        "id": "mydW-p5iRpFH",
        "colab_type": "text"
      },
      "source": [
        "Los tres tipos de agentes tienen diferentes tipos de sensores y actuadores. <br>\n",
        "Humanos\n",
        "<ul>\n",
        "  <li>Sensores: ojos, oídos, otros organos</li>\n",
        "  <li>Actuadores: manos, piernas, etc</li>\n",
        "</ul>\n",
        "<br>\n",
        "Robots\n",
        "<ul>\n",
        "  <li>Sensores: cámaras, sensores infrarojos,etc</li>\n",
        "  <li>Actuadores: motores de diversos tamaños y aplicaciones</li>\n",
        "</ul>\n",
        "<br>\n",
        "Software\n",
        "<ul>\n",
        "  <li>Sensores: inputs del teclado, archivos, paquetes de red</li>\n",
        "  <li>Actuadores: imágenes en la pantalla, escritura de archivos, enviar paquetes de red</li>\n",
        "</ul>\n",
        "<br>\n",
        "<br>"
      ]
    },
    {
      "cell_type": "markdown",
      "metadata": {
        "id": "2n7cAPfyRpFI",
        "colab_type": "text"
      },
      "source": [
        "#### P3.- Menciona que significa PEAS. Proporciona al menos 3 ejemplos de agentes y sus PEAS correspondientes.\n",
        "\n",
        "(Valor: 1 Puntos)"
      ]
    },
    {
      "cell_type": "markdown",
      "metadata": {
        "id": "TnxNFWXoWrlz",
        "colab_type": "text"
      },
      "source": [
        "PEAS son siglas para: Performance Measure, Environment, Actuators, Sensors. Estos son medidas y descriptores para entender como un agente interactua con su ambiente.\n",
        "\n",
        "1 Sistema de diagnosis médico\n",
        "<ul>\n",
        "  <li>P: La salud del paciente</li>\n",
        "  <li>E: Hospital, personal médico</li>\n",
        "  <li>A: Prescripción, diagnosis, </li>\n",
        "  <li>S: Síntomas e inputs del paciente</li>\n",
        "</ul>"
      ]
    },
    {
      "cell_type": "markdown",
      "metadata": {
        "id": "3Sgzao3-RpFL",
        "colab_type": "text"
      },
      "source": [
        "#### P4.- Menciona las diferencias entre los ambientes completamente y parcialmente observables.\n",
        "\n",
        "(Valor: 1 Punto)"
      ]
    },
    {
      "cell_type": "markdown",
      "metadata": {
        "id": "aCSaNx8uYDqP",
        "colab_type": "text"
      },
      "source": [
        "Los ambientes completamente observables le proveen al agente acceso al estado integral del ambiente en cualquier punto de tiempo a través de sus sensores. Mientras que los agentes en ambientes parcialmente observables tienen lecturas parciales de su entorno debido a sensores defectuosos o entornos con mucha interferencia en los inputs o simplemente lecturas o datos faltantes.  "
      ]
    },
    {
      "cell_type": "markdown",
      "metadata": {
        "id": "OeTQTnvdRpFP",
        "colab_type": "text"
      },
      "source": [
        "#### P5.- Proporciona 4 ejemplos de tareas en los diferentes tipos de  ambientes (recordemos que hay 10 aproximadamente: Estocástico, Determinista, Secuencial, etc...), considerando lo siguiente:\n",
        "\n",
        "##### Observable, Tipo de Agente (Sencillo o Múltiple), Tipo de ambiente\n",
        "(Valor: 1 Punto)"
      ]
    },
    {
      "cell_type": "markdown",
      "metadata": {
        "id": "8aCqOOrjdWG-",
        "colab_type": "text"
      },
      "source": [
        "<table>\n",
        "<tr>\n",
        "  <th>Ambiente</th>\n",
        "  <th>Tarea</th>\n",
        "  <th>Observable</th>\n",
        "  <th>Tipo de Agente</th>\n",
        "  <th>Tipo de ambiente</th>\n",
        "</tr>\n",
        "<tr>\n",
        "  <td>Refrigerador</td>\n",
        "  <td>Medir y regular la temperatura</td>\n",
        "  <td>Completo</td>\n",
        "  <td>Sencillo</td>\n",
        "  <td>Stocastico</td>\n",
        "</tr>\n",
        "<tr>\n",
        "  <td>Juego de Gato</td>\n",
        "  <td>Poner Xs o Os para ganar la partida</td>\n",
        "  <td>Completo</td>\n",
        "  <td>Multiple</td>\n",
        "  <td>Determinista</td>\n",
        "</tr>\n",
        "<tr>\n",
        "  <td>Aspiradora Inteligente</td>\n",
        "  <td>Limpiar la basura</td>\n",
        "  <td>Parcialmente</td>\n",
        "  <td>Multiple</td>\n",
        "  <td>Stocastico</td>\n",
        "</tr>\n",
        "<tr>\n",
        "  <td>Juego de Ajedrez</td>\n",
        "  <td>Hacer jaque mate al enemigo</td>\n",
        "  <td>Completo</td>\n",
        "  <td>Multiple</td>\n",
        "  <td>Determinista</td>\n",
        "</tr>\n",
        "</table>"
      ]
    },
    {
      "cell_type": "markdown",
      "metadata": {
        "id": "nNgbzXwDRpFS",
        "colab_type": "text"
      },
      "source": [
        "#### P6.- ¿Cuáles son las arquitecturas de los agentes?\n",
        "(Valor: 1 Punto)\n"
      ]
    },
    {
      "cell_type": "markdown",
      "metadata": {
        "id": "O46FydJQRpFS",
        "colab_type": "text"
      },
      "source": [
        "A) Agente de reflejo simple, basado en modelos, basado en obgetivos, basado en utilidad.\n",
        "\n",
        "B) Agente de reflejo multiple, basado en modelos, basado en objetivos, basado en utilidad.\n",
        "\n",
        "**C) Agente de reflejo simple, basado en modelos, basado en objetivos, basado en utilidad.**\n",
        "\n",
        "D) Agente de reflejo simple, basado en modelos, basado en objetivos, basado en utilida."
      ]
    },
    {
      "cell_type": "markdown",
      "metadata": {
        "id": "CzK_8XWLRpFT",
        "colab_type": "text"
      },
      "source": [
        "#### P7.- Menciona las diferencias entre los 4 agentes anteriores\n",
        "(Valor: 2 Puntos)"
      ]
    },
    {
      "cell_type": "markdown",
      "metadata": {
        "id": "2i8EM_5wheeZ",
        "colab_type": "text"
      },
      "source": [
        "\n",
        "Los agentes de reflejo simple actúan en base al percepto actual que reciben, ignorando el historial o su experiencia. Aplican el carpe diem. <br> <br>\n",
        "Los agentes basados en modelos tienen una concepción del estado actual de su ambiente y de cómo los estados futúros dependen de estados y acciones actuales basadas en la información de un modelo o descripción. <br><br>\n",
        "Los agentes basados en objetivos, además de conocer el estado del mundo y del impacto de sus acciones, factorizan también como sus acciones pueden ayudar a cumplir con el objetivo definido. Lo que los hace altamente flexibles en su toma de decisiones, por lo tanto son mas transparentes en su forma de tomar acciones<br><br>\n",
        "Los agentes basados en utilidad integran los modelos de los agentes basados en modelos y añaden funciones de utilidad en su toma de decisiones. Esta función de utilidad esa una internalización de los parámetros de desempeño que evalúan que tan bien el agente ejecuta una acción basándose en el efecto en el ambiente. El agente siempre va a intentar tomar acciones que favorezca su función de utilidad para maximizar su desempeño y no solo cumplir un objetivo. Lo que lo hace los agentes más robustos.\n",
        "\n",
        "\n"
      ]
    },
    {
      "cell_type": "markdown",
      "metadata": {
        "id": "4qR-dn_IRpFV",
        "colab_type": "text"
      },
      "source": [
        "#### P8.- ¿Qué son los algoritmos de búsqueda?, ¿cuáles son los elementos que la comprenden?\n",
        "(Valor: 2 Puntos)"
      ]
    },
    {
      "cell_type": "markdown",
      "metadata": {
        "id": "jnaRNCGcYz74",
        "colab_type": "text"
      },
      "source": [
        "Son esquemas de representación de conocimiento donde a través de diferentes algoritmos nos ayudan a encontrar soluciones a algunos problemas de IA.  Los elementos que contienen son:\n",
        "- Conjunto de estados: los posibles estados del problema\n",
        "- Estados inicialees: El o los estados desde los que se empieza a resolver el problema\n",
        "- Estados finales: El o los estados que representan la solución al problema\n",
        "- Operadores: Las acciones o medidas necesarias para el cambio de estados."
      ]
    },
    {
      "cell_type": "markdown",
      "metadata": {
        "id": "8En2zRx2RpFY",
        "colab_type": "text"
      },
      "source": [
        "#### P9.- Menciona las diferencias entre búsqueda no informada e informada\n",
        "(Valor: 2 Puntos)"
      ]
    },
    {
      "cell_type": "markdown",
      "metadata": {
        "id": "H-EWI6y2ag-Y",
        "colab_type": "text"
      },
      "source": [
        "La diferencia principal es que la busqueda informada ya tiene conociemiento y lo utiliza para el proceso de busqueda a diferencia de la busqueda no informada. La ventaja es que es más eficiente y encuentra la solución más rápido, pero por el ambiente no se puede utilizar siempre la búsqueda informada.\n",
        "\n",
        "La búsqueda no informada se basa en la comparación del estado actual con el objetivo, basándose solo en si el estado es final o no. Se pueden expandir y visitar nodos, si un nodo no tiene hijos ya no hay más operadores por aplicarle."
      ]
    },
    {
      "cell_type": "markdown",
      "metadata": {
        "id": "WAyU5ttERpFb",
        "colab_type": "text"
      },
      "source": [
        "#### P10.- Describe el algoritmo de Hill Climbing y cómo funciona  de forma general\n",
        "(Valor: 3 Puntos)"
      ]
    },
    {
      "cell_type": "markdown",
      "metadata": {
        "id": "71KlP51wcmvv",
        "colab_type": "text"
      },
      "source": [
        "Hill Climbing es un algoritmo de optimización donde se busca encontrar una entrada óptima para la solución de una función que representa un problema. Se basa en la comparación de un nodo con sus vecinos, eligiendo la mejor opción entre ellos, sin embargo esto puede llevar a que se encuentre una solución óptima local y no un óptimo global de todas las entradas posibles del problema. Se considera un algoritmo Greedy en términos de que se está moviendo entre comparación de nodos vecinos moviéndose siempre hacia la mejor solución entre ellos. Es esta metodología lo que lo lleva a no considerar posibles óptimos globales que no estén linealmente relacionados al nodo inicial. "
      ]
    },
    {
      "cell_type": "markdown",
      "metadata": {
        "id": "f76Aa2fNRpFe",
        "colab_type": "text"
      },
      "source": [
        "#### P11.- Describe el algoritmo de Recocido Simulado (Simulated Annealing) y cómo funciona  de forma general\n",
        "(Valor: 3 Puntos)"
      ]
    },
    {
      "cell_type": "markdown",
      "metadata": {
        "id": "__AoK6BEhpK9",
        "colab_type": "text"
      },
      "source": [
        "Este algoritmo es similar al Hill Climbing en el sentido de que ambos algoritmos se basan en el visitar los nodos vecinos al nodo actual, sin embargo, en el algoritmo de Simulated Annealing se le asigna una probabilidad de que se eliga un nodo menos óptimo a propósito, esta probabilidad se le conoce como temperatura en el contexto del algoritmo, y va bajando con el tiempo. Con esta temperatura se forza a que la ejecución del algoritmo explore más allá de óptimos locales, pero regresando a ellos al enfriarse en caso de ser un óptimo global. Este algoritmo con una taza de enfriamiento de la probabilidad suficientemente lenta, y suficiente tiempo de ejecución, siempre debería encontrar la solución óptima global. \n"
      ]
    },
    {
      "cell_type": "markdown",
      "metadata": {
        "id": "SWdCrbjiRpFh",
        "colab_type": "text"
      },
      "source": [
        "#### P12.- Describe los algoritmos genéticos y cómo funcionan de forma general\n",
        "(Valor: 3 Puntos)"
      ]
    },
    {
      "cell_type": "markdown",
      "metadata": {
        "id": "xN-fUi1t2mUE",
        "colab_type": "text"
      },
      "source": [
        "Los algoritmos genéticos son basados en la idea biológica de la selección natural, donde sólo los mejores de cada especie sobreviven. En este algoritmo se presenta una posible solución al problema como un gen, con la posibilidad de reproducirse y pasar a su descendencia su genética, con alteraciones. Se busca que a través de varias generaciones, sólo las mejores posibles soluciones sean las que compartan sus genes, o sea las métricas óptimas para la resolución del problema, dejando que las menos óptimas mueran sin reproducirse en el proceso. De esta forma, a través de varias generaciones de descendientes se logrará alcanzar parámetros óptimos para el algoritmo con el que se está trabajando. "
      ]
    },
    {
      "cell_type": "markdown",
      "metadata": {
        "id": "08LkRhMlRpFk",
        "colab_type": "text"
      },
      "source": [
        "---\n",
        "---\n",
        "\n",
        "# Sección 3 - Práctico\n",
        "\n",
        "### (70 puntos)\n",
        "\n",
        "---"
      ]
    },
    {
      "cell_type": "markdown",
      "metadata": {
        "id": "RXJ60AljRpFk",
        "colab_type": "text"
      },
      "source": [
        "En esta sección se presentan varios códigos donde ustedes deberán completar las línea de código faltantes para que puedan llegar al resultado. \n",
        "\n",
        "----\n",
        "### P1.- Resolución de un **Sudoku**\n",
        "\n",
        "(Valor: 15 Puntos)"
      ]
    },
    {
      "cell_type": "markdown",
      "metadata": {
        "id": "SqJJyfPMRpFl",
        "colab_type": "text"
      },
      "source": [
        "Definimos dos posibles tableros para la ejecución de los siguientes códigos, donde se aplican algunos de los algoritmos de búqueda visto en clase."
      ]
    },
    {
      "cell_type": "code",
      "metadata": {
        "id": "obrrw9kXRpFl",
        "colab_type": "code",
        "colab": {}
      },
      "source": [
        "# Tablero de prueba\n",
        "board1 = [\n",
        "    [1,0,0,0,0,0,0,0,0],\n",
        "    [0,0,0,0,0,0,0,0,0],\n",
        "    [0,0,0,0,0,0,0,0,0],\n",
        "    [0,0,0,1,0,0,0,0,0],\n",
        "    [0,0,0,0,0,0,0,0,0],\n",
        "    [0,0,0,0,0,0,0,0,0],\n",
        "    [0,0,0,0,0,0,1,0,0],\n",
        "    [0,0,0,0,0,0,0,0,0],\n",
        "    [0,0,0,0,0,0,0,0,0]\n",
        "]"
      ],
      "execution_count": null,
      "outputs": []
    },
    {
      "cell_type": "code",
      "metadata": {
        "id": "wq_MARfiRpFo",
        "colab_type": "code",
        "colab": {}
      },
      "source": [
        "board2 = [\n",
        "    [7,8,0,4,0,0,1,2,0],\n",
        "    [6,0,0,0,7,5,0,0,9],\n",
        "    [0,0,0,6,0,1,0,7,8],\n",
        "    [0,0,7,0,4,0,2,6,0],\n",
        "    [0,0,1,0,5,0,9,3,0],\n",
        "    [9,0,4,0,6,0,0,0,5],\n",
        "    [0,7,0,3,0,0,0,1,2],\n",
        "    [1,2,0,0,0,7,4,0,0],\n",
        "    [0,4,9,2,0,6,0,0,7]\n",
        "]"
      ],
      "execution_count": null,
      "outputs": []
    },
    {
      "cell_type": "markdown",
      "metadata": {
        "id": "DTqagrE9RpFq",
        "colab_type": "text"
      },
      "source": [
        "A partir de las siguientes secciones, deberás completar las líneas faltantes para poder llegar al resultado esperado."
      ]
    },
    {
      "cell_type": "code",
      "metadata": {
        "id": "nYi3jqy4RpFq",
        "colab_type": "code",
        "colab": {}
      },
      "source": [
        "#Necesitamos definir nuestra función de impresión\n",
        "def print_Table(sudoku):\n",
        "    for i in range(len(sudoku)):\n",
        "        if i % 3 == 0 and i != 0:\n",
        "            print(\"- - - - - - - - - - - - - \")\n",
        "        for j in range(len(sudoku[0])):\n",
        "            if j % 3 == 0 and j != 0:\n",
        "                print(\" | \", end=\"\")\n",
        "            if j == 8:\n",
        "                print(sudoku[i][j])\n",
        "            else:\n",
        "                print(str(sudoku[i][j]) + \" \", end=\"\")"
      ],
      "execution_count": null,
      "outputs": []
    },
    {
      "cell_type": "markdown",
      "metadata": {
        "id": "7eBrJJRARpFs",
        "colab_type": "text"
      },
      "source": [
        "De primera instancia, debe existir una función para corroborar que el dato actual sea un 0 para tomar una decisión"
      ]
    },
    {
      "cell_type": "code",
      "metadata": {
        "id": "ZHTAIrftRpFt",
        "colab_type": "code",
        "colab": {}
      },
      "source": [
        "#Así como el código correspondiente para buscar los 0's definidos\n",
        "def empty_Check(sudoku):\n",
        "    for i in range(len(sudoku)):\n",
        "        for j in range(len(sudoku[0])):\n",
        "            if sudoku[i][j] == 0:\n",
        "                return (i, j)  # row, col\n",
        "    return None"
      ],
      "execution_count": null,
      "outputs": []
    },
    {
      "cell_type": "markdown",
      "metadata": {
        "id": "qX64XacPRpFv",
        "colab_type": "text"
      },
      "source": [
        "#### P2.- Describe el funcionamiento de **Algorithm**.\n",
        "\n",
        "(Valor: 10 puntos extra)"
      ]
    },
    {
      "cell_type": "markdown",
      "metadata": {
        "id": "QB6afHxPRpFw",
        "colab_type": "text"
      },
      "source": [
        "<h3>Descripción del algoritmo</h3>\n",
        "<ol>\n",
        "    <li>Primero se buscan los espacios vacíos (espacios con 0's)</li>\n",
        "    <li>Cuando se encuentra uno, enviar su pos a \"algorithm\"</li>\n",
        "    <li>Se intenta poner los numeros en esas celdas,  </li>\n",
        "    <li>Checamos que no haya el mismo número en esa fila y columna</li>\n",
        "    <li>Checamos que no haya el mismo número en esa celda (3x3)</li>\n",
        "    <li>En caso de fallar las pruebas anteriores, se borra e intenta poner en la siguiente celda</li>\n",
        "    <li>En caso de éxito se llenan las celdas posteriores de forma recursiva</li>\n",
        "   \n",
        "</ol>"
      ]
    },
    {
      "cell_type": "code",
      "metadata": {
        "id": "-F4lB8VFRpFw",
        "colab_type": "code",
        "colab": {}
      },
      "source": [
        "def algorithm(sudoku, num, pos):\n",
        "    # look for the number horizontally and vertically\n",
        "    # checking row\n",
        "    for i in range(len(sudoku[0])):\n",
        "        if sudoku[pos[0]][i] == num and pos[1] != i:\n",
        "            return False\n",
        "\n",
        "    # checking column\n",
        "    for i in range(len(sudoku)):\n",
        "        if sudoku[i][pos[1]] == num and pos[0] != i:\n",
        "            return False\n",
        "\n",
        "    # Check grid of 9\n",
        "    box_x = pos[1] // 3\n",
        "    box_y = pos[0] // 3\n",
        "\n",
        "    for i in range(box_y*3, box_y*3 + 3):\n",
        "        for j in range(box_x * 3, box_x*3 + 3):\n",
        "            if sudoku[i][j] == num and (i,j) != pos:\n",
        "                return False\n",
        "    return True"
      ],
      "execution_count": null,
      "outputs": []
    },
    {
      "cell_type": "code",
      "metadata": {
        "id": "ntSKx6N1RpFy",
        "colab_type": "code",
        "colab": {}
      },
      "source": [
        "def solving(sudoku):\n",
        "    check = empty_Check(sudoku)\n",
        "    if not check:\n",
        "        return True\n",
        "    else:\n",
        "        row, col = check\n",
        "\n",
        "    for i in range(1,10):\n",
        "        if algorithm(sudoku, i, (row, col)):\n",
        "            sudoku[row][col] = i\n",
        "            if solving(sudoku):\n",
        "                return True\n",
        "\n",
        "            sudoku[row][col] = 0\n",
        "\n",
        "    return False"
      ],
      "execution_count": null,
      "outputs": []
    },
    {
      "cell_type": "markdown",
      "metadata": {
        "id": "eaoK7ZZZRpF1",
        "colab_type": "text"
      },
      "source": [
        "A continuación, deberás imprimir el tablero inicial, llavar el método correspondiente y de la misma forma, imprimir el resultado."
      ]
    },
    {
      "cell_type": "code",
      "metadata": {
        "id": "AnhMV4FBRpF1",
        "colab_type": "code",
        "colab": {},
        "outputId": "79f242f4-61a7-4fa4-fd8d-db8abed28261"
      },
      "source": [
        "print_Table(board1)\n",
        "solving(board1)\n",
        "print(\"___________________\")\n",
        "print_Table(board1)"
      ],
      "execution_count": null,
      "outputs": [
        {
          "output_type": "stream",
          "text": [
            "1 0 0  | 0 0 0  | 0 0 0\n",
            "0 0 0  | 0 0 0  | 0 0 0\n",
            "0 0 0  | 0 0 0  | 0 0 0\n",
            "- - - - - - - - - - - - - \n",
            "0 0 0  | 1 0 0  | 0 0 0\n",
            "0 0 0  | 0 0 0  | 0 0 0\n",
            "0 0 0  | 0 0 0  | 0 0 0\n",
            "- - - - - - - - - - - - - \n",
            "0 0 0  | 0 0 0  | 1 0 0\n",
            "0 0 0  | 0 0 0  | 0 0 0\n",
            "0 0 0  | 0 0 0  | 0 0 0\n",
            "___________________\n",
            "1 2 3  | 4 5 6  | 7 8 9\n",
            "4 5 6  | 7 8 9  | 2 1 3\n",
            "7 8 9  | 2 1 3  | 4 5 6\n",
            "- - - - - - - - - - - - - \n",
            "2 3 4  | 1 6 5  | 8 9 7\n",
            "5 1 7  | 8 9 2  | 3 6 4\n",
            "6 9 8  | 3 4 7  | 5 2 1\n",
            "- - - - - - - - - - - - - \n",
            "3 6 2  | 9 7 8  | 1 4 5\n",
            "8 4 5  | 6 3 1  | 9 7 2\n",
            "9 7 1  | 5 2 4  | 6 3 8\n"
          ],
          "name": "stdout"
        }
      ]
    },
    {
      "cell_type": "code",
      "metadata": {
        "scrolled": false,
        "id": "bFgqxGd7RpF7",
        "colab_type": "code",
        "colab": {},
        "outputId": "668cebdf-f1e5-4ac1-f2df-23d099a85a45"
      },
      "source": [
        "print_Table(board2)\n",
        "solving(board2)\n",
        "print(\"___________________\")\n",
        "print_Table(board2)"
      ],
      "execution_count": null,
      "outputs": [
        {
          "output_type": "stream",
          "text": [
            "7 8 0  | 4 0 0  | 1 2 0\n",
            "6 0 0  | 0 7 5  | 0 0 9\n",
            "0 0 0  | 6 0 1  | 0 7 8\n",
            "- - - - - - - - - - - - - \n",
            "0 0 7  | 0 4 0  | 2 6 0\n",
            "0 0 1  | 0 5 0  | 9 3 0\n",
            "9 0 4  | 0 6 0  | 0 0 5\n",
            "- - - - - - - - - - - - - \n",
            "0 7 0  | 3 0 0  | 0 1 2\n",
            "1 2 0  | 0 0 7  | 4 0 0\n",
            "0 4 9  | 2 0 6  | 0 0 7\n",
            "___________________\n",
            "7 8 5  | 4 3 9  | 1 2 6\n",
            "6 1 2  | 8 7 5  | 3 4 9\n",
            "4 9 3  | 6 2 1  | 5 7 8\n",
            "- - - - - - - - - - - - - \n",
            "8 5 7  | 9 4 3  | 2 6 1\n",
            "2 6 1  | 7 5 8  | 9 3 4\n",
            "9 3 4  | 1 6 2  | 7 8 5\n",
            "- - - - - - - - - - - - - \n",
            "5 7 8  | 3 9 4  | 6 1 2\n",
            "1 2 6  | 5 8 7  | 4 9 3\n",
            "3 4 9  | 2 1 6  | 8 5 7\n"
          ],
          "name": "stdout"
        }
      ]
    },
    {
      "cell_type": "markdown",
      "metadata": {
        "id": "G8-6lmp7RpF9",
        "colab_type": "text"
      },
      "source": [
        "---\n",
        "En este apartado retomaremos la idea de los agentes inteligentes con las clásicas definiciones de `Nodo`, `Problema` y dos métodos de búsqueda: `BFS`y `DFS`"
      ]
    },
    {
      "cell_type": "markdown",
      "metadata": {
        "id": "yikInIgiRpF-",
        "colab_type": "text"
      },
      "source": [
        "### P3.- Completa los espacios vacios en los códigos\n",
        "\n",
        "(Valor: 10 puntos)"
      ]
    },
    {
      "cell_type": "code",
      "metadata": {
        "id": "1age2Y83RpF-",
        "colab_type": "code",
        "colab": {}
      },
      "source": [
        "class Node:\n",
        "    def __init__(self, state, action=None):\n",
        "        self.state = state\n",
        "        self.action = action\n",
        "    # Use each action to create a new board state\n",
        "    def expand(self, problem):\n",
        "        return [self.child_node(problem, action)\n",
        "                for action in problem.actions(self.state)]\n",
        "    # Return node with new board state\n",
        "    def child_node(self, problem, action):\n",
        "        next = problem.result(self.state, action)\n",
        "        return Node(next, action)"
      ],
      "execution_count": null,
      "outputs": []
    },
    {
      "cell_type": "code",
      "metadata": {
        "id": "TkMQNGrRRpGA",
        "colab_type": "code",
        "colab": {}
      },
      "source": [
        "from queue import Queue\n",
        "import copy\n",
        "import time\n",
        "\n",
        "class Problem(object):\n",
        "\n",
        "    def __init__(self, initial):\n",
        "        self.initial = initial\n",
        "        self.type = len(initial) ########################## 1\n",
        "        self.height = int(self.type/3)\n",
        "\n",
        "    # Return set of valid numbers from values that do not appear in used\n",
        "    def filter_values(self, values, used):\n",
        "        return [number for number in values if number not in used]\n",
        "\n",
        "    # Return first empty spot on grid (marked with 0)\n",
        "    def get_spot(self, board, state): ## TODO\n",
        "        #print(board) st ffffffffff\n",
        "        for row in range(0, board):## 9? ################### 2\n",
        "            for column in range(0,9): ####################### 3\n",
        "                if state[row][column] == 0:\n",
        "                    return row, column   \n",
        "\n",
        "    def actions(self, state):\n",
        "        number_set = range(1, self.type+1) # Defines set of valid numbers that can be placed on board\n",
        "        in_column = [] # List of valid values in spot's column\n",
        "        in_block = [] # List of valid values in spot's quadrant\n",
        "\n",
        "        row,column = self.get_spot(self.type, state) # Get first empty spot on board\n",
        "\n",
        "        # Filter valid values based on row\n",
        "        in_row = [number for number in state[row] if (number != 0)]\n",
        "        options = self.filter_values(number_set, in_row)\n",
        "\n",
        "        # Filter valid values based on column\n",
        "        for column_index in range(self.type):\n",
        "            if state[column_index][column] != 0:\n",
        "                in_column.append(state[column_index][column])\n",
        "        options = self.filter_values(options, in_column)\n",
        "\n",
        "        # Filter with valid values based on quadrant\n",
        "        row_start = int(row/self.height)*self.height\n",
        "        column_start = int(column/3)*3\n",
        "        \n",
        "        for block_row in range(0, self.height):\n",
        "            for block_column in range(0,3):\n",
        "                in_block.append(state[row_start + block_row][column_start + block_column])\n",
        "        options = self.filter_values(options, in_block)\n",
        "\n",
        "        for number in options:\n",
        "            yield number, row, column      \n",
        "\n",
        "    # Returns updated board after adding new valid value\n",
        "    def result(self, state, action):\n",
        "\n",
        "        play = action[0]\n",
        "        row = action[1]\n",
        "        column = action[2]\n",
        "\n",
        "        # Add new valid value to board\n",
        "        new_state = copy.deepcopy(state)\n",
        "        new_state[row][column] = play\n",
        "\n",
        "        return new_state\n",
        "\n",
        "    # Use sums of each row, column and quadrant to determine validity of board state\n",
        "    def goal_test(self, state):\n",
        "\n",
        "        # Expected sum of each row, column or quadrant.\n",
        "        total = sum(range(1, self.type+1))\n",
        "\n",
        "        # Check rows and columns and return false if total is invalid\n",
        "        for row in range(self.type):\n",
        "            if (len(state[row]) != self.type) or (sum(state[row]) != total):\n",
        "                return False\n",
        "\n",
        "            column_total = 0\n",
        "            for column in range(self.type):\n",
        "                column_total += state[column][row]\n",
        "\n",
        "            if (column_total != total):\n",
        "                return False\n",
        "\n",
        "        # Check quadrants and return false if total is invalid\n",
        "        for column in range(0,self.type,3):\n",
        "            for row in range(0,self.type,self.height):\n",
        "\n",
        "                block_total = 0\n",
        "                for block_row in range(0,self.height):\n",
        "                    for block_column in range(0,3):\n",
        "                        block_total += state[row + block_row][column + block_column]\n",
        "\n",
        "                if (block_total != total):\n",
        "                    return False\n",
        "\n",
        "        return True"
      ],
      "execution_count": null,
      "outputs": []
    },
    {
      "cell_type": "code",
      "metadata": {
        "id": "zcabXhXhRpGC",
        "colab_type": "code",
        "colab": {}
      },
      "source": [
        "def BFS(problem):\n",
        "    start = Node(problem.initial)#DONE\n",
        "    if problem.goal_test(start.state):#DONE\n",
        "        return start\n",
        "    frontier = Queue()#deqeue([start]) DUDA \n",
        "    frontier.put(start)#DONE\n",
        "    while (frontier.qsize() != 0):\n",
        "        node = frontier.get()\n",
        "        for child in node.expand(problem):\n",
        "            if problem.goal_test(child.state):\n",
        "                return child\n",
        "            frontier.put(child)\n",
        "    return None"
      ],
      "execution_count": null,
      "outputs": []
    },
    {
      "cell_type": "code",
      "metadata": {
        "id": "Bqx_QPVVRpGE",
        "colab_type": "code",
        "colab": {}
      },
      "source": [
        "def DFS(problem):\n",
        "    start = Node(problem.initial)#DONE\n",
        "    if problem.goal_test(start.state):#DONE\n",
        "        return start.state\n",
        "    stack = []\n",
        "    stack.append(start) #DONE\n",
        "    while stack:\n",
        "        node = stack.pop()\n",
        "        if problem.goal_test(node.state):\n",
        "            return node\n",
        "        stack.extend(node.expand(problem))\n",
        "    return None"
      ],
      "execution_count": null,
      "outputs": []
    },
    {
      "cell_type": "markdown",
      "metadata": {
        "id": "9GsUskqsRpGH",
        "colab_type": "text"
      },
      "source": [
        "### Imprime los resultados y el tiempo de ejecución de BFS y DFS"
      ]
    },
    {
      "cell_type": "code",
      "metadata": {
        "id": "HFf7DRn-RpGH",
        "colab_type": "code",
        "colab": {}
      },
      "source": [
        "board2 = [\n",
        "    [7,8,0,4,0,0,1,2,0],\n",
        "    [6,0,0,0,7,5,0,0,9],\n",
        "    [0,0,0,6,0,1,0,7,8],\n",
        "    [0,0,7,0,4,0,2,6,0],\n",
        "    [0,0,1,0,5,0,9,3,0],\n",
        "    [9,0,4,0,6,0,0,0,5],\n",
        "    [0,7,0,3,0,0,0,1,2],\n",
        "    [1,2,0,0,0,7,4,0,0],\n",
        "    [0,4,9,2,0,6,0,0,7]\n",
        "]"
      ],
      "execution_count": null,
      "outputs": []
    },
    {
      "cell_type": "markdown",
      "metadata": {
        "id": "KjDW0M3_RpGJ",
        "colab_type": "text"
      },
      "source": [
        "<h3>BREADTH-FIRST SEARCH</h3>"
      ]
    },
    {
      "cell_type": "code",
      "metadata": {
        "id": "t1umpjNSRpGK",
        "colab_type": "code",
        "colab": {},
        "outputId": "3345833d-0915-4add-b53b-8ef9cde41dc0"
      },
      "source": [
        "print (\"Problem:\")\n",
        "for row in board2:\n",
        "    print(row)\n",
        "    \n",
        "print (\"\\nSolving with BFS...\")\n",
        "start_time = time.time()#DONE\n",
        "\n",
        "# new instance of problem with board2\n",
        "problem = Problem(board2) #DONE\n",
        "solvedBoard = BFS(problem)\n",
        "elapsed_time = time.time() - start_time\n",
        "if solvedBoard:\n",
        "    print (\"Found solution\")\n",
        "    for row in solvedBoard.state:\n",
        "        print(row)\n",
        "else:\n",
        "    print (\"No possible solutions\")\n",
        "print (\"Elapsed time: \" + str(elapsed_time))"
      ],
      "execution_count": null,
      "outputs": [
        {
          "output_type": "stream",
          "text": [
            "Problem:\n",
            "[7, 8, 0, 4, 0, 0, 1, 2, 0]\n",
            "[6, 0, 0, 0, 7, 5, 0, 0, 9]\n",
            "[0, 0, 0, 6, 0, 1, 0, 7, 8]\n",
            "[0, 0, 7, 0, 4, 0, 2, 6, 0]\n",
            "[0, 0, 1, 0, 5, 0, 9, 3, 0]\n",
            "[9, 0, 4, 0, 6, 0, 0, 0, 5]\n",
            "[0, 7, 0, 3, 0, 0, 0, 1, 2]\n",
            "[1, 2, 0, 0, 0, 7, 4, 0, 0]\n",
            "[0, 4, 9, 2, 0, 6, 0, 0, 7]\n",
            "\n",
            "Solving with BFS...\n",
            "Found solution\n",
            "[7, 8, 5, 4, 3, 9, 1, 2, 6]\n",
            "[6, 1, 2, 8, 7, 5, 3, 4, 9]\n",
            "[4, 9, 3, 6, 2, 1, 5, 7, 8]\n",
            "[8, 5, 7, 9, 4, 3, 2, 6, 1]\n",
            "[2, 6, 1, 7, 5, 8, 9, 3, 4]\n",
            "[9, 3, 4, 1, 6, 2, 7, 8, 5]\n",
            "[5, 7, 8, 3, 9, 4, 6, 1, 2]\n",
            "[1, 2, 6, 5, 8, 7, 4, 9, 3]\n",
            "[3, 4, 9, 2, 1, 6, 8, 5, 7]\n",
            "Elapsed time: 0.012205362319946289\n"
          ],
          "name": "stdout"
        }
      ]
    },
    {
      "cell_type": "markdown",
      "metadata": {
        "id": "gYuZcaVdRpGM",
        "colab_type": "text"
      },
      "source": [
        "<h3>DEPTH-FIRST SEARCH</h3>"
      ]
    },
    {
      "cell_type": "code",
      "metadata": {
        "id": "T07sxt9LRpGM",
        "colab_type": "code",
        "colab": {},
        "outputId": "66a39528-338c-4e43-d9bd-e9b6508ec057"
      },
      "source": [
        "print (\"Problem:\")\n",
        "for row in board2:\n",
        "      print(row)\n",
        "\n",
        "print (\"\\nSolving with DFS...\")\n",
        "start_time = time.time()\n",
        "problem = Problem(board2)\n",
        "solvedBoard = DFS(problem)\n",
        "elapsed_time = time.time() - start_time\n",
        "if solvedBoard:\n",
        "    print (\"Found solution\")\n",
        "    for row in solvedBoard.state:\n",
        "        print(row)\n",
        "else:\n",
        "    print (\"No possible solutions\")\n",
        "print (\"Elapsed time: \" + str(elapsed_time))"
      ],
      "execution_count": null,
      "outputs": [
        {
          "output_type": "stream",
          "text": [
            "Problem:\n",
            "[7, 8, 0, 4, 0, 0, 1, 2, 0]\n",
            "[6, 0, 0, 0, 7, 5, 0, 0, 9]\n",
            "[0, 0, 0, 6, 0, 1, 0, 7, 8]\n",
            "[0, 0, 7, 0, 4, 0, 2, 6, 0]\n",
            "[0, 0, 1, 0, 5, 0, 9, 3, 0]\n",
            "[9, 0, 4, 0, 6, 0, 0, 0, 5]\n",
            "[0, 7, 0, 3, 0, 0, 0, 1, 2]\n",
            "[1, 2, 0, 0, 0, 7, 4, 0, 0]\n",
            "[0, 4, 9, 2, 0, 6, 0, 0, 7]\n",
            "\n",
            "Solving with DFS...\n",
            "Found solution\n",
            "[7, 8, 5, 4, 3, 9, 1, 2, 6]\n",
            "[6, 1, 2, 8, 7, 5, 3, 4, 9]\n",
            "[4, 9, 3, 6, 2, 1, 5, 7, 8]\n",
            "[8, 5, 7, 9, 4, 3, 2, 6, 1]\n",
            "[2, 6, 1, 7, 5, 8, 9, 3, 4]\n",
            "[9, 3, 4, 1, 6, 2, 7, 8, 5]\n",
            "[5, 7, 8, 3, 9, 4, 6, 1, 2]\n",
            "[1, 2, 6, 5, 8, 7, 4, 9, 3]\n",
            "[3, 4, 9, 2, 1, 6, 8, 5, 7]\n",
            "Elapsed time: 0.009559154510498047\n"
          ],
          "name": "stdout"
        }
      ]
    },
    {
      "cell_type": "markdown",
      "metadata": {
        "id": "aCXmSyWMRpGP",
        "colab_type": "text"
      },
      "source": [
        "### P4.- El siguiente algoritmo es un ejemplo de la implementación de `Hill Climbing` y `Simulated Annealing `, deberás completar las líneas faltantes\n",
        "\n",
        "(Valor: 30 puntos)"
      ]
    },
    {
      "cell_type": "code",
      "metadata": {
        "id": "OcRsxIKZRpGP",
        "colab_type": "code",
        "colab": {}
      },
      "source": [
        "## Throughout this program we have:\n",
        "##   r is a row,    e.g. 'A'\n",
        "##   c is a column, e.g. '3'\n",
        "##   s is a square, e.g. 'A3'\n",
        "##   d is a digit,  e.g. '9'\n",
        "##   u is a unit,   e.g. ['A1','B1','C1','D1','E1','F1','G1','H1','I1']\n",
        "##   grid is a grid,e.g. 81 non-blank chars, e.g. starting with '.18...7...\n",
        "##   values is a dict of possible values, e.g. {'A1':'12349', 'A2':'8', ...}\n",
        "\n",
        "from random import randrange\n",
        "import math\n",
        "import itertools\n",
        "\n",
        "def cross(A, B):\n",
        "    \"Cross product of elements in A and elements in B.\"\n",
        "    return [a+b for a in A for b in B]\n",
        "\n",
        "digits   = '123456789'\n",
        "rows     = 'ABCDEFGHI'\n",
        "cols     = digits\n",
        "squares  = cross(rows, cols)\n",
        "unitlist = ([cross(rows, c) for c in cols] +\n",
        "            [cross(r, cols) for r in rows] +\n",
        "            [cross(rs, cs) for rs in ('ABC','DEF','GHI') for cs in ('123','456','789')])\n",
        "units = dict((s, [u for u in unitlist if s in u])\n",
        "             for s in squares)\n",
        "peers = dict((s, set(sum(units[s],[]))-set([s]))\n",
        "             for s in squares)\n",
        "\n",
        "columns = [cross(rows, c) for c in cols]\n",
        "lines = [cross(r, cols) for r in rows]\n",
        "boxes = dict((s, set(sum([units[s][2]],[]))-set([s])) for s in squares)\n",
        "\n",
        "#compteur du nombre d'essaie\n",
        "try_counter = 0\n",
        "\n",
        "################ Parse a Grid ################\n",
        "def parse_grid(grid):\n",
        "    \"\"\"Convert grid to a dict of possible values, {square: digits}, or\n",
        "    return False if a contradiction is detected.\"\"\"\n",
        "    ## To start, every square can be any digit; then assign values from the grid.\n",
        "    values = dict((s, digits) for s in squares)\n",
        "    for s,d in grid_values(grid).items():\n",
        "        if d in digits and not assign(values, s, d):\n",
        "            return False ## (Fail if we can't assign d to square s.)\n",
        "    return values\n",
        "\n",
        "def grid_values(grid):\n",
        "    \"Convert grid into a dict of {square: char} with '0' or '.' for empties.\"\n",
        "    chars = [c for c in grid if c in digits or c in '0.']\n",
        "    assert len(chars) == 81\n",
        "    return dict(zip(squares, chars))\n",
        "\n",
        "################ Constraint Propagation ################\n",
        "def assign(values, s, d):\n",
        "    \"\"\"Eliminate all the other values (except d) from values[s] and propagate.\n",
        "    Return values, except return False if a contradiction is detected.\"\"\"\n",
        "    global try_counter\n",
        "    try_counter += 1\n",
        "    other_values = values[s].replace(d, '')\n",
        "    if all(eliminate(values, s, d2) for d2 in other_values):\n",
        "        return values\n",
        "    else:\n",
        "        return False\n",
        "\n",
        "def eliminate(values, s, d):\n",
        "    \"\"\"Eliminate d from values[s]; propagate when values or places <= 2.\n",
        "    Return values, except return False if a contradiction is detected.\"\"\"\n",
        "    if d not in values[s]:\n",
        "        return values ## Already eliminated\n",
        "    values[s] = values[s].replace(d,'')\n",
        "    ## (1) If a square s is reduced to one value d2, then eliminate d2 from the peers.\n",
        "    if len(values[s]) == 0:\n",
        "        return False ## Contradiction: removed last value\n",
        "    elif len(values[s]) == 1:\n",
        "        d2 = values[s]\n",
        "        if not all(eliminate(values, s2, d2) for s2 in peers[s]):\n",
        "            return False\n",
        "    ## (2) If a unit u is reduced to only one place for a value d, then put it there.\n",
        "    for u in units[s]:\n",
        "        dplaces = [s for s in u if d in values[s]]\n",
        "        if len(dplaces) == 0:\n",
        "            return False ## Contradiction: no place for this value\n",
        "        elif len(dplaces) == 1:\n",
        "            # d can only be in one place in unit; assign it there\n",
        "            if not assign(values, dplaces[0], d):\n",
        "                return False\n",
        "    return values\n",
        "\n",
        "\n",
        "############### Constraint propagation (in the boxes) for initialization of Hill Climbing ########################\n",
        "def assign_HC(values, s, d):\n",
        "    \"\"\"Eliminate all the other values (except d) from values[s] and propagate in the box.\n",
        "    Return values, except return False if a contradiction is detected in the box.\"\"\"\n",
        "    other_values = values[s].replace(d, '')\n",
        "    if all(eliminate_HC(values, s, d2) for d2 in other_values):\n",
        "        return values\n",
        "    else:\n",
        "        return False\n",
        "\n",
        "def eliminate_HC(values, s, d):\n",
        "    \"\"\"Eliminate d from values[s]; propagate when values or places <= 2.\n",
        "    Return values, except return False if a contradiction is detected.\"\"\"\n",
        "    if d not in values[s]:\n",
        "        return values ## Already eliminated\n",
        "    values[s] = values[s].replace(d,'')\n",
        "    ## (1) If a square s is reduced to one value d2, then eliminate d2 from the box.\n",
        "    if len(values[s]) == 0:\n",
        "        return False ## Contradiction: removed last value\n",
        "    elif len(values[s]) == 1:\n",
        "        d2 = values[s]\n",
        "        if not all(eliminate_HC(values, s2, d2) for s2 in boxes[s]):\n",
        "            return False\n",
        "    ## (2) If a unit u is reduced to only one place for a value d, then put it there.\n",
        "    for u in [units[s][2]]:\n",
        "        dplaces = [s for s in u if d in values[s]]\n",
        "        if len(dplaces) == 0:\n",
        "            return False ## Contradiction: no place for this value\n",
        "        elif len(dplaces) == 1:\n",
        "            # d can only be in one place in unit; assign it there\n",
        "            if not assign_HC(values, dplaces[0], d):\n",
        "                return False\n",
        "    return values\n",
        "\n",
        "################ Display as 2-D grid ################\n",
        "def display(values):\n",
        "    \"Display these values as a 2-D grid.\"\n",
        "    width = 1+max(len(values[s]) for s in squares)\n",
        "    line = '+'.join(['-'*(width*3)]*3)\n",
        "    for r in rows:\n",
        "        print(''.join(values[r + c].center(width) + ('|' if c in '36' else '')\n",
        "                      for c in cols))\n",
        "        if r in 'CF': print(line)\n",
        "    print()\n",
        "\n",
        "################ Search ################\n",
        "def solve(grid):\n",
        "    #met le compteur a zero a chaque nouvelle grille de sudoku\n",
        "    global try_counter\n",
        "    try_counter = 0\n",
        "    return search(parse_grid(grid))\n",
        "\n",
        "def search(values):\n",
        "    \"Using depth-first search and propagation, try all possible values.\"\n",
        "    if values is False:\n",
        "        return False ## Failed earlier\n",
        "    if all(len(values[s]) == 1 for s in squares):\n",
        "        return values ## Solved!\n",
        "    ## Chose the unfilled square s with the fewest possibilities\n",
        "    n,s = min((len(values[s]), s) for s in squares if len(values[s]) > 1)\n",
        "    return some(search(assign(values.copy(), s, d))\n",
        "                for d in values[s])\n",
        "\n",
        "\n",
        "########################### Hill Climbing ##################################333333\n",
        "def solve_hill_climbing(grid):\n",
        "    #met le compteur a zero a chaque nouvelle grille de sudoku\n",
        "    global try_counter\n",
        "    try_counter = 0\n",
        "    values = parse_grid(grid)\n",
        "    return hill_climbing(initialize_hill_climbing(values))\n",
        "\n",
        "def initialize_hill_climbing(values):\n",
        "    \"En tenant compte seulement des boites, remplit chaque carre, avec au hasard, un des chiffre possibles\"\n",
        "    new_values = values.copy()\n",
        "    #tant quil y a un carre vide\n",
        "    while max(len(new_values[s]) for s in squares) > 1:\n",
        "        ## Chose the unfilled square s with the fewest possibilities\n",
        "        n, s = min((len(new_values[s]), s) for s in squares if len(new_values[s]) > 1)\n",
        "        random_index = randrange(0, len(new_values[s]))\n",
        "        d = new_values[s][random_index]\n",
        "        assign_HC(new_values, s, d)\n",
        "    return new_values\n",
        "\n",
        "def hill_climbing(values):\n",
        "    \"Using Hill-Climbing, try to find a solution\"\n",
        "    currentNode = values\n",
        "    while(True):\n",
        "        L = neighbors(currentNode)\n",
        "        nextEval = float(\"-inf\")\n",
        "        nextNode = None\n",
        "        for x in L:\n",
        "            if (evaluation(x) > nextEval):\n",
        "                nextNode = x\n",
        "                nextEval = evaluation(x)\n",
        "        if nextEval <= evaluation(currentNode):\n",
        "            #Return current node since no better neighbors exist\n",
        "            return currentNode\n",
        "        #print(evaluation(nextNode))\n",
        "        currentNode = nextNode\n",
        "\n",
        "        global try_counter\n",
        "        try_counter += 1\n",
        "\n",
        "def neighbors(currentNode):\n",
        "    \"\"\"retourne une liste des voisins du noeuds\n",
        "    les voisins sont les noeuds obtenus en echangeant les chiffres de deux carres appartenant a la meme boite (36 possibilites par boite)\"\"\"\n",
        "    neighbors = []\n",
        "    done = []\n",
        "    for s in squares:\n",
        "        newNode = currentNode.copy()\n",
        "        box = boxes[s] - set(done)\n",
        "        for s2 in box:\n",
        "            newNode[s], newNode[s2] = newNode[s2], newNode[s]\n",
        "            neighbors.append(newNode)\n",
        "        done.append(s)\n",
        "    return neighbors\n",
        "\n",
        "def evaluation(values):\n",
        "    # l'evaluation est egal a: 0 - nb de conflit sur les lignes et colonnes\n",
        "    conflicts = 0\n",
        "    for line in lines:\n",
        "        l = []\n",
        "        for s in line:\n",
        "            l.append(values[s])\n",
        "        conflicts += len(set(l)) - 9\n",
        "    for column in columns:\n",
        "        c = []\n",
        "        for s in column:\n",
        "            c.append(values[s])\n",
        "        conflicts += len(set(c)) - 9\n",
        "    return conflicts\n",
        "\n",
        "\n",
        "############### Simulated annealing ##############\n",
        "def solve_simulated_annealing(grid):\n",
        "    #met le compteur a zero a chaque nouvelle grille de sudoku\n",
        "    global try_counter\n",
        "    try_counter = 0\n",
        "    values = parse_grid(grid)\n",
        "    return simulated_annealing(initialize_hill_climbing(values))\n",
        "\n",
        "def simulated_annealing(values):\n",
        "    global try_counter\n",
        "    current = values\n",
        "    t = 1\n",
        "    alpha = 0.99\n",
        "    for i in range(10000):\n",
        "        t = alpha * t\n",
        "        if t == 0:\n",
        "            return current\n",
        "        if solved(current):\n",
        "            return current\n",
        "        next = random_neighbor(current)\n",
        "        deltaE = evaluation(next) - evaluation(current)\n",
        "        if deltaE > 0:\n",
        "            current = next\n",
        "            try_counter += 1\n",
        "        elif jump(probability=math.exp(deltaE / t)):\n",
        "            current = next\n",
        "            try_counter += 1\n",
        "    return values #return current values if not solved after trying 10k neighbors\n",
        "\n",
        "def random_neighbor(current):\n",
        "    newNode = current.copy()\n",
        "    s = random.choice(squares)\n",
        "    s2 = random.sample(boxes[s],1)[0]\n",
        "    newNode[s], newNode[s2] = newNode[s2], newNode[s]\n",
        "    return newNode\n",
        "\n",
        "def jump(probability):\n",
        "    return random.random() < probability\n",
        "\n",
        "################ Utilities ################\n",
        "def some(seq):\n",
        "    \"Return some element of seq that is true.\"\n",
        "    for e in seq:\n",
        "        if e: return e\n",
        "    return False\n",
        "\n",
        "def from_file(filename, sep='\\n'):\n",
        "    \"Parse a file into a list of strings, separated by sep.\"\n",
        "    return open(filename).read().strip().split(sep)\n",
        "\n",
        "def shuffled(seq):\n",
        "    \"Return a randomly shuffled copy of the input sequence.\"\n",
        "    seq = list(seq)\n",
        "    random.shuffle(seq)\n",
        "    return seq\n",
        "\n",
        "################ System test ################\n",
        "import time, random, numpy\n",
        "def solve_all(grids, name='', showif=0.0):\n",
        "    def time_solve(grid):\n",
        "        start_time = time.time()\n",
        "        if name == 'hc':\n",
        "            values = solve_hill_climbing(grid)\n",
        "        elif name == 'sa':\n",
        "            values = solve_simulated_annealing(grid)\n",
        "\n",
        "        t = time.time() - start_time\n",
        "        global try_counter\n",
        "        ## Display puzzles that take long enough\n",
        "        if showif is not None and t > showif:\n",
        "            display(grid_values(grid))\n",
        "            if values: display(values)\n",
        "            print('(%.2f seconds)\\n' % t)\n",
        "        return (t, solved(values), try_counter)\n",
        "    times, results, visited_nodes = zip(*[time_solve(grid) for grid in grids])\n",
        "    N = len(grids)\n",
        "    if N >= 1:\n",
        "        if N == 100:\n",
        "            print(\"%s \\n Solved: %.2f%s \\n Times (min: %.2f, avg: %.2f, max: %.2f, std dev.: %.4f) \\n Visited nodes (min: %d, avg: %.2f, max: %d, std dev.: %.4f)\" % (\n",
        "                name, sum(results), '%', min(times), sum(times)/N, max(times), numpy.std(times,ddof=1), min(visited_nodes), sum(visited_nodes)/N, max(visited_nodes), numpy.std(visited_nodes,ddof=1)))\n",
        "        else:\n",
        "            print(\"%s \\n Solved: %d/%d \\n Times (min: %.2f, avg: %.2f, max: %.2f, std dev.: %.4f) \\n Visited nodes (min: %d, avg: %.2f, max: %d, std dev.: %.4f)\" % (\n",
        "                name, sum(results), N, min(times), sum(times) / N, max(times), numpy.std(times, ddof=1),\n",
        "                min(visited_nodes), sum(visited_nodes) / N, max(visited_nodes), numpy.std(visited_nodes, ddof=1)))\n",
        "\n",
        "\n",
        "def solved(values):\n",
        "    \"A puzzle is solved if each unit is a permutation of the digits 1 to 9.\"\n",
        "    def unitsolved(unit): return set(values[s] for s in unit) == set(digits)\n",
        "    return values is not False and all(unitsolved(unit) for unit in unitlist)\n",
        "\n",
        "grid1  = '003020600900305001001806400008102900700000008006708200002609500800203009005010300'\n",
        "grid2  = '4.....8.5.3..........7......2.....6.....8.4......1.......6.3.7.5..2.....1.4......'\n",
        "hard1  = '.....6....59.....82....8....45........3........6..3.54...325..6..................'"
      ],
      "execution_count": null,
      "outputs": []
    },
    {
      "cell_type": "markdown",
      "metadata": {
        "id": "4c73LY3NRpGS",
        "colab_type": "text"
      },
      "source": [
        "Usando el código anterior, deberás crear un `main` para poder ejecutar y mostrar con cual de los siguientes ejemplos funcionan los algoritmos de HC y SA"
      ]
    },
    {
      "cell_type": "code",
      "metadata": {
        "id": "K-BeuxQjRpGS",
        "colab_type": "code",
        "colab": {}
      },
      "source": [
        "#Utiliza estos grdis de prueba\n",
        "grid1  = '003020600900305001001806400008102900700000008006708200002609500800203009005010300'\n",
        "grid2  = '4.....8.5.3..........7......2.....6.....8.4......1.......6.3.7.5..2.....1.4......'\n",
        "hard1  = '.....6....59.....82....8....45........3........6..3.54...325..6..................'"
      ],
      "execution_count": null,
      "outputs": []
    },
    {
      "cell_type": "code",
      "metadata": {
        "id": "5ej3fvx4RpGU",
        "colab_type": "code",
        "colab": {
          "base_uri": "https://localhost:8080/",
          "height": 285
        },
        "outputId": "9aa98676-d899-4408-dfde-1c3095f640f5"
      },
      "source": [
        "if __name__ == '__main__':\n",
        "    #Hill Climbing\n",
        "    print(\"____ Hill Climbing ____\")\n",
        "\n",
        "    solution = solve_hill_climbing(grid1)\n",
        "    solution2 = solve_hill_climbing(grid2)\n",
        "    solution3 = solve_hill_climbing(hard1)\n",
        "    \n",
        "    print(solution)\n",
        "    print(solution2)\n",
        "    print(solution3)\n",
        "\n",
        "    print(solved(solution))\n",
        "    print(solved(solution2))\n",
        "    print(solved(solution3))\n",
        "\n",
        "\n",
        "    #Simulated annealing\n",
        "    print(\"____ Simulated annealing ____\")\n",
        "\n",
        "    solutionSA = solve_simulated_annealing(grid1)\n",
        "    solutionSA2 = solve_simulated_annealing(grid2)\n",
        "    solutionSA3 = solve_simulated_annealing(hard1)\n",
        "\n",
        "    print(solutionSA)\n",
        "    print(solutionSA2)\n",
        "    print(solutionSA3)\n",
        "\n",
        "    print(solved(solutionSA))\n",
        "    print(solved(solutionSA2))\n",
        "    print(solved(solutionSA3))\n",
        "\n",
        "     #<Completa>\n",
        "    print()"
      ],
      "execution_count": null,
      "outputs": [
        {
          "output_type": "stream",
          "text": [
            "____ Hill Climbing ____\n",
            "{'A1': '4', 'A2': '8', 'A3': '3', 'A4': '9', 'A5': '2', 'A6': '1', 'A7': '6', 'A8': '5', 'A9': '7', 'B1': '9', 'B2': '6', 'B3': '7', 'B4': '3', 'B5': '4', 'B6': '5', 'B7': '8', 'B8': '2', 'B9': '1', 'C1': '2', 'C2': '5', 'C3': '1', 'C4': '8', 'C5': '7', 'C6': '6', 'C7': '4', 'C8': '9', 'C9': '3', 'D1': '5', 'D2': '4', 'D3': '8', 'D4': '1', 'D5': '3', 'D6': '2', 'D7': '9', 'D8': '7', 'D9': '6', 'E1': '7', 'E2': '2', 'E3': '9', 'E4': '5', 'E5': '6', 'E6': '4', 'E7': '1', 'E8': '3', 'E9': '8', 'F1': '1', 'F2': '3', 'F3': '6', 'F4': '7', 'F5': '9', 'F6': '8', 'F7': '2', 'F8': '4', 'F9': '5', 'G1': '3', 'G2': '7', 'G3': '2', 'G4': '6', 'G5': '8', 'G6': '9', 'G7': '5', 'G8': '1', 'G9': '4', 'H1': '8', 'H2': '1', 'H3': '4', 'H4': '2', 'H5': '5', 'H6': '3', 'H7': '7', 'H8': '6', 'H9': '9', 'I1': '6', 'I2': '9', 'I3': '5', 'I4': '4', 'I5': '1', 'I6': '7', 'I7': '3', 'I8': '8', 'I9': '2'}\n",
            "{'A1': '4', 'A2': '6', 'A3': '2', 'A4': '3', 'A5': '6', 'A6': '2', 'A7': '8', 'A8': '1', 'A9': '5', 'B1': '9', 'B2': '3', 'B3': '7', 'B4': '1', 'B5': '9', 'B6': '8', 'B7': '9', 'B8': '4', 'B9': '2', 'C1': '8', 'C2': '5', 'C3': '1', 'C4': '7', 'C5': '5', 'C6': '4', 'C7': '3', 'C8': '7', 'C9': '6', 'D1': '9', 'D2': '2', 'D3': '5', 'D4': '4', 'D5': '9', 'D6': '7', 'D7': '5', 'D8': '6', 'D9': '1', 'E1': '6', 'E2': '1', 'E3': '7', 'E4': '3', 'E5': '8', 'E6': '2', 'E7': '4', 'E8': '8', 'E9': '9', 'F1': '3', 'F2': '4', 'F3': '8', 'F4': '5', 'F5': '1', 'F6': '6', 'F7': '7', 'F8': '2', 'F9': '3', 'G1': '2', 'G2': '9', 'G3': '8', 'G4': '6', 'G5': '5', 'G6': '3', 'G7': '2', 'G8': '7', 'G9': '1', 'H1': '5', 'H2': '6', 'H3': '3', 'H4': '2', 'H5': '4', 'H6': '1', 'H7': '6', 'H8': '9', 'H9': '4', 'I1': '1', 'I2': '7', 'I3': '4', 'I4': '8', 'I5': '7', 'I6': '9', 'I7': '5', 'I8': '3', 'I9': '8'}\n",
            "{'A1': '3', 'A2': '1', 'A3': '8', 'A4': '2', 'A5': '5', 'A6': '6', 'A7': '5', 'A8': '7', 'A9': '9', 'B1': '7', 'B2': '5', 'B3': '9', 'B4': '7', 'B5': '3', 'B6': '4', 'B7': '3', 'B8': '2', 'B9': '8', 'C1': '2', 'C2': '6', 'C3': '4', 'C4': '9', 'C5': '1', 'C6': '8', 'C7': '1', 'C8': '6', 'C9': '4', 'D1': '9', 'D2': '4', 'D3': '5', 'D4': '6', 'D5': '8', 'D6': '1', 'D7': '6', 'D8': '3', 'D9': '1', 'E1': '7', 'E2': '3', 'E3': '6', 'E4': '2', 'E5': '5', 'E6': '4', 'E7': '7', 'E8': '9', 'E9': '2', 'F1': '8', 'F2': '2', 'F3': '1', 'F4': '7', 'F5': '9', 'F6': '3', 'F7': '8', 'F8': '5', 'F9': '4', 'G1': '1', 'G2': '7', 'G3': '8', 'G4': '3', 'G5': '2', 'G6': '5', 'G7': '7', 'G8': '9', 'G9': '6', 'H1': '6', 'H2': '9', 'H3': '2', 'H4': '1', 'H5': '8', 'H6': '9', 'H7': '4', 'H8': '1', 'H9': '3', 'I1': '5', 'I2': '4', 'I3': '3', 'I4': '4', 'I5': '6', 'I6': '7', 'I7': '8', 'I8': '2', 'I9': '5'}\n",
            "True\n",
            "False\n",
            "False\n",
            "____ Simulated annealing ____\n",
            "{'A1': '4', 'A2': '8', 'A3': '3', 'A4': '9', 'A5': '2', 'A6': '1', 'A7': '6', 'A8': '5', 'A9': '7', 'B1': '9', 'B2': '6', 'B3': '7', 'B4': '3', 'B5': '4', 'B6': '5', 'B7': '8', 'B8': '2', 'B9': '1', 'C1': '2', 'C2': '5', 'C3': '1', 'C4': '8', 'C5': '7', 'C6': '6', 'C7': '4', 'C8': '9', 'C9': '3', 'D1': '5', 'D2': '4', 'D3': '8', 'D4': '1', 'D5': '3', 'D6': '2', 'D7': '9', 'D8': '7', 'D9': '6', 'E1': '7', 'E2': '2', 'E3': '9', 'E4': '5', 'E5': '6', 'E6': '4', 'E7': '1', 'E8': '3', 'E9': '8', 'F1': '1', 'F2': '3', 'F3': '6', 'F4': '7', 'F5': '9', 'F6': '8', 'F7': '2', 'F8': '4', 'F9': '5', 'G1': '3', 'G2': '7', 'G3': '2', 'G4': '6', 'G5': '8', 'G6': '9', 'G7': '5', 'G8': '1', 'G9': '4', 'H1': '8', 'H2': '1', 'H3': '4', 'H4': '2', 'H5': '5', 'H6': '3', 'H7': '7', 'H8': '6', 'H9': '9', 'I1': '6', 'I2': '9', 'I3': '5', 'I4': '4', 'I5': '1', 'I6': '7', 'I7': '3', 'I8': '8', 'I9': '2'}\n",
            "{'A1': '4', 'A2': '7', 'A3': '6', 'A4': '1', 'A5': '2', 'A6': '9', 'A7': '8', 'A8': '5', 'A9': '3', 'B1': '2', 'B2': '5', 'B3': '3', 'B4': '6', 'B5': '4', 'B6': '8', 'B7': '7', 'B8': '9', 'B9': '1', 'C1': '8', 'C2': '9', 'C3': '1', 'C4': '7', 'C5': '3', 'C6': '5', 'C7': '6', 'C8': '2', 'C9': '4', 'D1': '1', 'D2': '8', 'D3': '7', 'D4': '2', 'D5': '5', 'D6': '4', 'D7': '3', 'D8': '6', 'D9': '9', 'E1': '3', 'E2': '4', 'E3': '2', 'E4': '9', 'E5': '8', 'E6': '6', 'E7': '5', 'E8': '1', 'E9': '7', 'F1': '9', 'F2': '6', 'F3': '5', 'F4': '3', 'F5': '7', 'F6': '1', 'F7': '2', 'F8': '4', 'F9': '8', 'G1': '5', 'G2': '1', 'G3': '8', 'G4': '4', 'G5': '6', 'G6': '3', 'G7': '9', 'G8': '7', 'G9': '2', 'H1': '7', 'H2': '3', 'H3': '9', 'H4': '5', 'H5': '1', 'H6': '2', 'H7': '4', 'H8': '8', 'H9': '6', 'I1': '6', 'I2': '2', 'I3': '4', 'I4': '8', 'I5': '9', 'I6': '7', 'I7': '1', 'I8': '3', 'I9': '5'}\n",
            "{'A1': '3', 'A2': '5', 'A3': '1', 'A4': '4', 'A5': '7', 'A6': '8', 'A7': '2', 'A8': '9', 'A9': '6', 'B1': '6', 'B2': '8', 'B3': '9', 'B4': '5', 'B5': '2', 'B6': '1', 'B7': '7', 'B8': '3', 'B9': '4', 'C1': '2', 'C2': '7', 'C3': '4', 'C4': '9', 'C5': '3', 'C6': '6', 'C7': '5', 'C8': '8', 'C9': '1', 'D1': '1', 'D2': '9', 'D3': '2', 'D4': '8', 'D5': '4', 'D6': '3', 'D7': '6', 'D8': '5', 'D9': '7', 'E1': '8', 'E2': '6', 'E3': '5', 'E4': '7', 'E5': '9', 'E6': '2', 'E7': '1', 'E8': '4', 'E9': '3', 'F1': '7', 'F2': '4', 'F3': '3', 'F4': '1', 'F5': '6', 'F6': '5', 'F7': '8', 'F8': '2', 'F9': '9', 'G1': '4', 'G2': '1', 'G3': '7', 'G4': '2', 'G5': '5', 'G6': '9', 'G7': '3', 'G8': '6', 'G9': '8', 'H1': '5', 'H2': '3', 'H3': '8', 'H4': '6', 'H5': '1', 'H6': '4', 'H7': '9', 'H8': '7', 'H9': '2', 'I1': '9', 'I2': '2', 'I3': '6', 'I4': '3', 'I5': '8', 'I6': '7', 'I7': '4', 'I8': '1', 'I9': '5'}\n",
            "True\n",
            "True\n",
            "True\n",
            "\n"
          ],
          "name": "stdout"
        }
      ]
    },
    {
      "cell_type": "markdown",
      "metadata": {
        "id": "JwO_aT6hRpGW",
        "colab_type": "text"
      },
      "source": [
        "Menciona cuál y porqué uno de los ejemplos no tuvo solución en el algoritmo HC"
      ]
    },
    {
      "cell_type": "markdown",
      "metadata": {
        "id": "9frBoX38AAm1",
        "colab_type": "text"
      },
      "source": [
        "Sólamente grid 1 tuvo solución en Hill Climbing, en grid2 y hard1 parecen encontrarse óptimos locales pero no cumplen con la solución óptima total"
      ]
    },
    {
      "cell_type": "markdown",
      "metadata": {
        "id": "ijFDqUqxRpGZ",
        "colab_type": "text"
      },
      "source": [
        "Posteriormente, deberás ejecutar el archivo de `1000sudoku.txt` y mostrar los resultados obtenidos de ambos algoritmos. \n",
        "Para la comparación, podrías obtener los resultados para 10, 100 y 1000 de ambos algoritmos."
      ]
    },
    {
      "cell_type": "code",
      "metadata": {
        "id": "HH0FfyBVRpGZ",
        "colab_type": "code",
        "colab": {}
      },
      "source": [
        "if __name__ == '__main__':\n",
        "    #Hill Climbing\n",
        "    #<Completa>\n",
        "    print()\n",
        "\n",
        "    #Simulated annealing\n",
        "     #<Completa>\n",
        "    print()"
      ],
      "execution_count": null,
      "outputs": []
    },
    {
      "cell_type": "markdown",
      "metadata": {
        "id": "QJHc7PvTRpGb",
        "colab_type": "text"
      },
      "source": [
        "#### Finalmente, describe cómo es que trabajan los algoritmos implementados de HC y SA (código anterior) para la resolución del sudoku (Valor: 5 Puntos Extra)"
      ]
    },
    {
      "cell_type": "code",
      "metadata": {
        "id": "vmHVvod8RpGc",
        "colab_type": "code",
        "colab": {}
      },
      "source": [
        ""
      ],
      "execution_count": null,
      "outputs": []
    },
    {
      "cell_type": "markdown",
      "metadata": {
        "id": "-V3U0I-bRpGe",
        "colab_type": "text"
      },
      "source": [
        "---\n",
        "---\n",
        "\n",
        "# Sección 4\n",
        "\n",
        "(Valor: 20)\n",
        "\n",
        "---"
      ]
    },
    {
      "cell_type": "markdown",
      "metadata": {
        "id": "VLbSJDtVRpGf",
        "colab_type": "text"
      },
      "source": [
        "Para la implementación del algoritmo genético, deberán completar los códigos a continuación"
      ]
    },
    {
      "cell_type": "code",
      "metadata": {
        "id": "2LK7_3KZRpGf",
        "colab_type": "code",
        "colab": {}
      },
      "source": [
        "import random\n",
        "\n",
        "def genetic_search(problem, ngen=1000, pmut=0.1, n=20):\n",
        "    ini_state = problem.initial_state\n",
        "    states = [problem.result(ini_state, actions) for actions in problem.actions(ini_state)]\n",
        "    random.shuffle(states)\n",
        "    return genetic_algorithm(states[:n], problem.value, ngen, pmut)\n",
        "\n",
        "def genetic_algorithm(population, fitness_fn, gene_pool=[0, 1], f_thres=None, ngen=1000, pmut=0.1):\n",
        "    population = [mutate(recombine(*select(2, population, fitness_fn)), gene_pool, pmut)\n",
        "                  for i in range(len(population))]\n",
        "\n",
        "    fittest_individual = fitness_threshold(fitness_fn, f_thres, population)\n",
        "\n",
        "    if fittest_individual:\n",
        "        return fittest_individual\n",
        "\n",
        "    return max(population, key=fitness_fn) \n",
        "\n",
        "\n",
        "def fitness_threshold(fitness_fn, f_thres, population):\n",
        "    if not f_thres:\n",
        "        return None\n",
        "\n",
        "    fittest_individual = max(population, key=fitness_fn)\n",
        "    if fitness_fn(fittest_individual) >= f_thres:\n",
        "        return fittest_individual\n",
        "\n",
        "    return None\n",
        "\n",
        "\n",
        "def init_population(pop_number, gene_pool, state_length):\n",
        "    g = len(gene_pool)\n",
        "    pop = []\n",
        "    for i in range(pop_number):\n",
        "        new_individual = [gene_pool[random.randrange(0, g)] for j in range(state_length)]\n",
        "        pop.append(new_individual)\n",
        "\n",
        "    return pop\n",
        "\n",
        "def select(r, population, fitness_fn):\n",
        "    fitnesses = map(fitness_fn, population)\n",
        "    sampler = weighted_sampler(population, fitnesses)\n",
        "    return [sampler() for i in range(r)]\n",
        "\n",
        "\n",
        "def recombine(x, y):\n",
        "    n = len(x)\n",
        "    c = random.randrange(0, n)\n",
        "    return x[:c] + y[c:]\n",
        "\n",
        "\n",
        "def recombine_uniform(x, y):\n",
        "    n = len(x)\n",
        "    result = [0] * n\n",
        "    indexes = random.sample(range(n), n)\n",
        "    for i in range(n):\n",
        "        ix = indexes[i]\n",
        "        result[ix] = x[ix] if i < n / 2 else y[ix]\n",
        "\n",
        "    return ''.join(str(r) for r in result)\n",
        "\n",
        "\n",
        "def mutate(x, gene_pool, pmut):\n",
        "    if random.uniform(0, 1) >= pmut:\n",
        "        return x\n",
        "\n",
        "    n = len(x)\n",
        "    g = len(gene_pool)\n",
        "    c = random.randrange(0, n)\n",
        "    r = random.randrange(0, g)\n",
        "\n",
        "    new_gene = gene_pool[r]\n",
        "    return x[:c] + [new_gene] + x[c + 1:]"
      ],
      "execution_count": null,
      "outputs": []
    },
    {
      "cell_type": "code",
      "metadata": {
        "id": "xphTyv8TRpGi",
        "colab_type": "code",
        "colab": {}
      },
      "source": [
        "import bisect\n",
        "def weighted_sampler(seq, weights):\n",
        "    \"\"\"Return a random-sample function that picks from seq weighted by weights.\"\"\"\n",
        "    totals = []\n",
        "    for w in weights:\n",
        "        totals.append(w + totals[-1] if totals else w)\n",
        "    return lambda: seq[bisect.bisect(totals, random.uniform(0, totals[-1]))]"
      ],
      "execution_count": null,
      "outputs": []
    },
    {
      "cell_type": "markdown",
      "metadata": {
        "id": "Y0zuws2dRpGk",
        "colab_type": "text"
      },
      "source": [
        "### ¿Cuántas generaciones serán necesarias para obtener la siguiente frase?"
      ]
    },
    {
      "cell_type": "code",
      "metadata": {
        "id": "HNbUIjqQRpGk",
        "colab_type": "code",
        "colab": {}
      },
      "source": [
        "target = 'Quiero mi Diez xD'"
      ],
      "execution_count": null,
      "outputs": []
    },
    {
      "cell_type": "code",
      "metadata": {
        "id": "Uyj1SZn9RpGm",
        "colab_type": "code",
        "colab": {}
      },
      "source": [
        "u_case = [chr(x) for x in range(65, 91)]\n",
        "l_case = [chr(x) for x in range(97, 123)]\n",
        "\n",
        "gene_pool = []\n",
        "gene_pool.extend(u_case) # adds the uppercase list to the gene pool\n",
        "gene_pool.extend(l_case) # adds the lowercase list to the gene pool\n",
        "gene_pool.append(' ')    # adds the space character to the gene pool"
      ],
      "execution_count": null,
      "outputs": []
    },
    {
      "cell_type": "code",
      "metadata": {
        "id": "pHtSo8LLRpGo",
        "colab_type": "code",
        "colab": {}
      },
      "source": [
        "max_population =  120"
      ],
      "execution_count": null,
      "outputs": []
    },
    {
      "cell_type": "code",
      "metadata": {
        "id": "QcLa7lFbRpGq",
        "colab_type": "code",
        "colab": {}
      },
      "source": [
        "mutation_rate = 0.1"
      ],
      "execution_count": null,
      "outputs": []
    },
    {
      "cell_type": "code",
      "metadata": {
        "id": "HcLkQ7qiHfFu",
        "colab_type": "code",
        "colab": {}
      },
      "source": [
        "def fitness_fn(sample):\n",
        "    # initialize fitness to 0\n",
        "    fitness = 0\n",
        "    for i in range(len(sample)):\n",
        "        # increment fitness by 1 for every matching character\n",
        "        if sample[i] == target[i]:\n",
        "            fitness += 1\n",
        "    return fitness"
      ],
      "execution_count": null,
      "outputs": []
    },
    {
      "cell_type": "code",
      "metadata": {
        "id": "wq8sBEviRpGs",
        "colab_type": "code",
        "colab": {}
      },
      "source": [
        "ngen = 1000 #max num of gens\n",
        "f_thres = len(target)"
      ],
      "execution_count": null,
      "outputs": []
    },
    {
      "cell_type": "code",
      "metadata": {
        "id": "Sp0acTJ7RpGu",
        "colab_type": "code",
        "colab": {}
      },
      "source": [
        " def genetic_algorithm_stepwise(population, fitness_fn, gene_pool=[0, 1], f_thres=None, ngen=1200, pmut=0.1):\n",
        "    for generation in range(ngen):\n",
        "        population = [mutate(recombine(*select(2, population, fitness_fn)), gene_pool, pmut) for i in range(len(population))]\n",
        "        \n",
        "        # stores the individual genome with the highest fitness in the current population\n",
        "        current_best = ''.join(max(population, key=fitness_fn))\n",
        "        print(f'Current best: {current_best}\\t\\tGeneration: {str(generation)}\\t\\tFitness: {fitness_fn(current_best)}\\r', end='')\n",
        "        \n",
        "        # compare the fitness of the current best individual to f_thres\n",
        "        fittest_individual = fitness_threshold(fitness_fn, f_thres, population)\n",
        "        \n",
        "        # if fitness is greater than or equal to f_thres, we terminate the algorithm\n",
        "        if fittest_individual:\n",
        "            return fittest_individual, generation\n",
        "    return max(population, key=fitness_fn) , generation "
      ],
      "execution_count": null,
      "outputs": []
    },
    {
      "cell_type": "code",
      "metadata": {
        "id": "WhubfZ2PRpGw",
        "colab_type": "code",
        "colab": {
          "base_uri": "https://localhost:8080/",
          "height": 33
        },
        "outputId": "3d529cf3-65fb-4658-c02e-7c3f454e5dde"
      },
      "source": [
        "population = init_population(max_population, gene_pool, len(target))\n",
        "solution, generations = genetic_algorithm_stepwise(population, fitness_fn, gene_pool, f_thres, ngen, mutation_rate)\n",
        "\n",
        "print()"
      ],
      "execution_count": null,
      "outputs": [
        {
          "output_type": "stream",
          "text": [
            "Current best: Quiero mi Diez xD\t\tGeneration: 957\t\tFitness: 17\n"
          ],
          "name": "stdout"
        }
      ]
    },
    {
      "cell_type": "markdown",
      "metadata": {
        "id": "uefxIqdyRpGx",
        "colab_type": "text"
      },
      "source": [
        "--------\n",
        "--------\n",
        "### Ejemplo EXTRA\n",
        "\n",
        "##### Pequeño ejercicio detección de máscaras faciales. \n",
        "\n",
        "(Valor: 15 puntos extras)"
      ]
    },
    {
      "cell_type": "markdown",
      "metadata": {
        "id": "8rUnfxtRRpGx",
        "colab_type": "text"
      },
      "source": [
        "En la siguiente sección cargamos los paths para las imagenes que se usarán en el modelo de entrenamiento, su objetivo será ejecutar satisfactoriamente el siguiente código y mostrar ejemplos de su funcionamiento.\n",
        "\n",
        "En la carpeta de ejemplos vienen unas pruebas de imágenes de gente con y sin mascara. Deberán cargar otros ejemplos y ver si el algoritmo falla. \n",
        "\n",
        "En la última sección, deberán mostrar que pudieron habilitar el código para ejecutarlo con la cámara de su computadora."
      ]
    },
    {
      "cell_type": "markdown",
      "metadata": {
        "id": "r7fWByu8RpGy",
        "colab_type": "text"
      },
      "source": [
        "---\n",
        "En este apartado se codifican las imágenes para crear nuestro modelo de detección de rostros con y sin máscara.\n",
        "\n",
        "Posiblemente se tarde 20-40 minutos si ejecutan este código en sus computadoras, a menos que trabajen con la GPU... Entrenen su modelo y traten de analizar lo que está sucediendo..."
      ]
    },
    {
      "cell_type": "code",
      "metadata": {
        "id": "3z5i1CrdRpGy",
        "colab_type": "code",
        "colab": {}
      },
      "source": [
        "pip install opencv-python\n",
        "pip install tensorflow\n",
        "pip install imutils\n",
        "from tensorflow.keras.preprocessing.image import ImageDataGenerator\n",
        "from tensorflow.keras.applications import MobileNetV2\n",
        "from tensorflow.keras.layers import AveragePooling2D\n",
        "from tensorflow.keras.layers import Dropout\n",
        "from tensorflow.keras.layers import Flatten\n",
        "from tensorflow.keras.layers import Dense\n",
        "from tensorflow.keras.layers import Input\n",
        "from tensorflow.keras.models import Model\n",
        "from tensorflow.keras.optimizers import Adam\n",
        "from tensorflow.keras.applications.mobilenet_v2 import preprocess_input\n",
        "from tensorflow.keras.preprocessing.image import img_to_array\n",
        "from tensorflow.keras.preprocessing.image import load_img\n",
        "from tensorflow.keras.utils import to_categorical\n",
        "from sklearn.preprocessing import LabelBinarizer\n",
        "from sklearn.model_selection import train_test_split\n",
        "from sklearn.metrics import classification_report\n",
        "from imutils import paths\n",
        "import matplotlib.pyplot as plt\n",
        "import numpy as np\n",
        "import argparse\n",
        "import os\n",
        "\n",
        "# initialize the initial learning rate, number of epochs to train for,\n",
        "# and batch size\n",
        "INIT_LR = 1e-4\n",
        "EPOCHS = 20\n",
        "BS = 32\n",
        "\n",
        "# grab the list of images in our dataset directory, then initialize\n",
        "# the list of data (i.e., images) and class images\n",
        "print(\"[INFO] loading images...\")\n",
        "imagePaths = list(paths.list_images(\"dataset\"))\n",
        "data = []\n",
        "labels = []\n",
        "\n",
        "# loop over the image paths\n",
        "for imagePath in imagePaths:\n",
        "\t# extract the class label from the filename\n",
        "\tlabel = imagePath.split(os.path.sep)[-2]\n",
        "\n",
        "\t# load the input image (224x224) and preprocess it\n",
        "\timage = load_img(imagePath, target_size=(224, 224))\n",
        "\timage = img_to_array(image)\n",
        "\timage = preprocess_input(image)\n",
        "\n",
        "\t# update the data and labels lists, respectively\n",
        "\tdata.append(image)\n",
        "\tlabels.append(label)\n",
        "\n",
        "# convert the data and labels to NumPy arrays\n",
        "data = np.array(data, dtype=\"float32\")\n",
        "labels = np.array(labels)\n",
        "\n",
        "# perform one-hot encoding on the labels\n",
        "lb = LabelBinarizer()\n",
        "labels = lb.fit_transform(labels)\n",
        "labels = to_categorical(labels)\n",
        "\n",
        "# partition the data into training and testing splits using 75% of\n",
        "# the data for training and the remaining 25% for testing\n",
        "(trainX, testX, trainY, testY) = train_test_split(data, labels,\n",
        "\ttest_size=0.20, stratify=labels, random_state=42)\n",
        "\n",
        "# construct the training image generator for data augmentation\n",
        "aug = ImageDataGenerator(\n",
        "\trotation_range=20,\n",
        "\tzoom_range=0.15,\n",
        "\twidth_shift_range=0.2,\n",
        "\theight_shift_range=0.2,\n",
        "\tshear_range=0.15,\n",
        "\thorizontal_flip=True,\n",
        "\tfill_mode=\"nearest\")\n",
        "\n",
        "# load the MobileNetV2 network, ensuring the head FC layer sets are\n",
        "# left off\n",
        "baseModel = MobileNetV2(weights=\"imagenet\", include_top=False,\n",
        "\tinput_tensor=Input(shape=(224, 224, 3)))\n",
        "\n",
        "# construct the head of the model that will be placed on top of the\n",
        "# the base model\n",
        "headModel = baseModel.output\n",
        "headModel = AveragePooling2D(pool_size=(7, 7))(headModel)\n",
        "headModel = Flatten(name=\"flatten\")(headModel)\n",
        "headModel = Dense(128, activation=\"relu\")(headModel)\n",
        "headModel = Dropout(0.5)(headModel)\n",
        "headModel = Dense(2, activation=\"softmax\")(headModel)\n",
        "\n",
        "# place the head FC model on top of the base model (this will become\n",
        "# the actual model we will train)\n",
        "model = Model(inputs=baseModel.input, outputs=headModel)\n",
        "\n",
        "# loop over all layers in the base model and freeze them so they will\n",
        "# *not* be updated during the first training process\n",
        "for layer in baseModel.layers:\n",
        "\tlayer.trainable = False\n",
        "\n",
        "# compile our model\n",
        "print(\"[INFO] compiling model...\")\n",
        "opt = Adam(lr=INIT_LR, decay=INIT_LR / EPOCHS)\n",
        "model.compile(loss=\"binary_crossentropy\", optimizer=opt,\n",
        "\tmetrics=[\"accuracy\"])\n",
        "\n",
        "# train the head of the network\n",
        "print(\"[INFO] training head...\")\n",
        "H = model.fit(\n",
        "\taug.flow(trainX, trainY, batch_size=BS),\n",
        "\tsteps_per_epoch=len(trainX) // BS,\n",
        "\tvalidation_data=(testX, testY),\n",
        "\tvalidation_steps=len(testX) // BS,\n",
        "\tepochs=EPOCHS)\n",
        "\n",
        "# make predictions on the testing set\n",
        "print(\"[INFO] evaluating network...\")\n",
        "predIdxs = model.predict(testX, batch_size=BS)\n",
        "\n",
        "# for each image in the testing set we need to find the index of the\n",
        "# label with corresponding largest predicted probability\n",
        "predIdxs = np.argmax(predIdxs, axis=1)\n",
        "\n",
        "# show a nicely formatted classification report\n",
        "print(classification_report(testY.argmax(axis=1), predIdxs,\n",
        "\ttarget_names=lb.classes_))\n",
        "\n",
        "# serialize the model to disk\n",
        "print(\"[INFO] saving mask detector model...\")\n",
        "model.save(\"maskDetectorTest.model\", save_format=\"h5\")\n",
        "\n",
        "# plot the training loss and accuracy\n",
        "N = EPOCHS\n",
        "plt.style.use(\"ggplot\")\n",
        "plt.figure()\n",
        "plt.plot(np.arange(0, N), H.history[\"loss\"], label=\"train_loss\")\n",
        "plt.plot(np.arange(0, N), H.history[\"val_loss\"], label=\"val_loss\")\n",
        "plt.plot(np.arange(0, N), H.history[\"accuracy\"], label=\"train_acc\")\n",
        "plt.plot(np.arange(0, N), H.history[\"val_accuracy\"], label=\"val_acc\")\n",
        "plt.title(\"Training Loss and Accuracy\")\n",
        "plt.xlabel(\"Epoch #\")\n",
        "plt.ylabel(\"Loss/Accuracy\")\n",
        "plt.legend(loc=\"lower left\")\n",
        "plt.savefig(\"plot.png\")"
      ],
      "execution_count": null,
      "outputs": []
    },
    {
      "cell_type": "markdown",
      "metadata": {
        "id": "iiVbrEyiRpG0",
        "colab_type": "text"
      },
      "source": [
        "En esta sección, deberán mostrar ejemplos satisfactorios y fallidos del modelo de máscaras"
      ]
    },
    {
      "cell_type": "code",
      "metadata": {
        "id": "cIJVmzRWRpG1",
        "colab_type": "code",
        "colab": {}
      },
      "source": [
        "# import the necessary packages\n",
        "from tensorflow.keras.applications.mobilenet_v2 import preprocess_input\n",
        "from tensorflow.keras.preprocessing.image import img_to_array\n",
        "from tensorflow.keras.models import load_model\n",
        "import numpy as np\n",
        "import argparse\n",
        "import cv2\n",
        "import os\n",
        "\n",
        "print(\"[INFO] loading face detector model...\")\n",
        "net = cv2.dnn.readNet(\"face_detector/deploy.prototxt\", \"face_detector/res10_300x300_ssd_iter_140000.caffemodel\")\n",
        "\n",
        "# load the face mask detector model from disk\n",
        "print(\"[INFO] loading face mask detector model...\")\n",
        "model = load_model(\"mask_detector.model\")\n",
        "\n",
        "# load the input image from disk, clone it, and grab the image spatial\n",
        "# dimensions\n",
        "image = cv2.imread(\"examples/example_01.png\")\n",
        "orig = image.copy()\n",
        "(h, w) = image.shape[:2]\n",
        "\n",
        "# construct a blob from the image\n",
        "blob = cv2.dnn.blobFromImage(image, 1.0, (300, 300),\n",
        "\t(104.0, 177.0, 123.0))\n",
        "\n",
        "# pass the blob through the network and obtain the face detections\n",
        "print(\"[INFO] computing face detections...\")\n",
        "net.setInput(blob)\n",
        "detections = net.forward()\n",
        "\n",
        "# loop over the detections\n",
        "for i in range(0, detections.shape[2]):\n",
        "\t# extract the confidence (i.e., probability) associated with\n",
        "\t# the detection\n",
        "\tconfidence = detections[0, 0, i, 2]\n",
        "\n",
        "\t# filter out weak detections by ensuring the confidence is\n",
        "\t# greater than the minimum confidence\n",
        "\tif confidence > 0.5:\n",
        "\t\t# compute the (x, y)-coordinates of the bounding box for\n",
        "\t\t# the object\n",
        "\t\tbox = detections[0, 0, i, 3:7] * np.array([w, h, w, h])\n",
        "\t\t(startX, startY, endX, endY) = box.astype(\"int\")\n",
        "\n",
        "\t\t# ensure the bounding boxes fall within the dimensions of\n",
        "\t\t# the frame\n",
        "\t\t(startX, startY) = (max(0, startX), max(0, startY))\n",
        "\t\t(endX, endY) = (min(w - 1, endX), min(h - 1, endY))\n",
        "\n",
        "\t\t# extract the face ROI, convert it from BGR to RGB channel\n",
        "\t\t# ordering, resize it to 224x224, and preprocess it\n",
        "\t\tface = image[startY:endY, startX:endX]\n",
        "\t\tface = cv2.cvtColor(face, cv2.COLOR_BGR2RGB)\n",
        "\t\tface = cv2.resize(face, (224, 224))\n",
        "\t\tface = img_to_array(face)\n",
        "\t\tface = preprocess_input(face)\n",
        "\t\tface = np.expand_dims(face, axis=0)\n",
        "\n",
        "\t\t# pass the face through the model to determine if the face\n",
        "\t\t# has a mask or not\n",
        "\t\t(mask, withoutMask) = model.predict(face)[0]\n",
        "\n",
        "\t\t# determine the class label and color we'll use to draw\n",
        "\t\t# the bounding box and text\n",
        "\t\tlabel = \"Mask\" if mask > withoutMask else \"No Mask\"\n",
        "\t\tcolor = (0, 255, 0) if label == \"Mask\" else (0, 0, 255)\n",
        "\n",
        "\t\t# include the probability in the label\n",
        "\t\tlabel = \"{}: {:.2f}%\".format(label, max(mask, withoutMask) * 100)\n",
        "\n",
        "\t\t# display the label and bounding box rectangle on the output\n",
        "\t\t# frame\n",
        "\t\tcv2.putText(image, label, (startX, startY - 10),\n",
        "\t\t\tcv2.FONT_HERSHEY_SIMPLEX, 0.45, color, 2)\n",
        "\t\tcv2.rectangle(image, (startX, startY), (endX, endY), color, 2)\n",
        "\n",
        "# show the output image\n",
        "cv2.imshow(\"Output\", image)\n",
        "cv2.waitKey(0)"
      ],
      "execution_count": null,
      "outputs": []
    },
    {
      "cell_type": "markdown",
      "metadata": {
        "id": "MhJPnxYlRpG3",
        "colab_type": "text"
      },
      "source": [
        "Completa algunas líneas para que funcione con la cámara..."
      ]
    },
    {
      "cell_type": "code",
      "metadata": {
        "id": "5ZlqzXzPRpG3",
        "colab_type": "code",
        "colab": {}
      },
      "source": [
        "# import the necessary packages\n",
        "from tensorflow.keras.applications.mobilenet_v2 import preprocess_input\n",
        "from tensorflow.keras.preprocessing.image import img_to_array\n",
        "from tensorflow.keras.models import load_model\n",
        "from imutils.video import VideoStream\n",
        "import numpy as np\n",
        "import argparse\n",
        "import imutils\n",
        "import time\n",
        "import cv2\n",
        "import os\n",
        "\n",
        "def detect_and_predict_mask(frame, faceNet, maskNet):\n",
        "\t# grab the dimensions of the frame and then construct a blob\n",
        "\t# from it\n",
        "\t(h, w) = frame.shape[:2]\n",
        "\tblob = cv2.dnn.blobFromImage(frame, 1.0, (300, 300),(104.0, 177.0, 123.0))\n",
        "\n",
        "\t# pass the blob through the network and obtain the face detections\n",
        "\tfaceNet.setInput(blob)\n",
        "\tdetections = faceNet.forward()\n",
        "\n",
        "\t# initialize our list of faces, their corresponding locations,\n",
        "\t# and the list of predictions from our face mask network\n",
        "\tfaces = []\n",
        "\tlocs = []\n",
        "\tpreds = []\n",
        "\n",
        "\t# loop over the detections\n",
        "\tfor i in range(0, detections.shape[2]):\n",
        "\t\t# extract the confidence (i.e., probability) associated with\n",
        "\t\t# the detection\n",
        "\t\tconfidence = detections[0, 0, i, 2]\n",
        "\n",
        "\t\t# filter out weak detections by ensuring the confidence is\n",
        "\t\t# greater than the minimum confidence\n",
        "\t\tif confidence > 0.5:\n",
        "\t\t\t# compute the (x, y)-coordinates of the bounding box for\n",
        "\t\t\t# the object\n",
        "\t\t\tbox = detections[0, 0, i, 3:7] * np.array([w, h, w, h])\n",
        "\t\t\t(startX, startY, endX, endY) = box.astype(\"int\")\n",
        "\n",
        "\t\t\t# ensure the bounding boxes fall within the dimensions of\n",
        "\t\t\t# the frame\n",
        "\t\t\t(startX, startY) = (max(0, startX), max(0, startY))\n",
        "\t\t\t(endX, endY) = (min(w - 1, endX), min(h - 1, endY))\n",
        "\n",
        "\t\t\t# extract the face ROI, convert it from BGR to RGB channel\n",
        "\t\t\t# ordering, resize it to 224x224, and preprocess it\n",
        "\t\t\tface = frame[startY:endY, startX:endX]\n",
        "\t\t\tface = cv2.cvtColor(face, cv2.COLOR_BGR2RGB)\n",
        "\t\t\tface = cv2.resize(face, (224, 224))\n",
        "\t\t\tface = img_to_array(face)\n",
        "\t\t\tface = preprocess_input(face)\n",
        "\t\t\tface = np.expand_dims(face, axis=0)\n",
        "\n",
        "\t\t\t# add the face and bounding boxes to their respective\n",
        "\t\t\t# lists\n",
        "\t\t\tfaces.append(face)\n",
        "\t\t\tlocs.append((startX, startY, endX, endY))\n",
        "\n",
        "\t# only make a predictions if at least one face was detected\n",
        "\tif len(faces) > 0:\n",
        "\t\t# for faster inference we'll make batch predictions on *all*\n",
        "\t\t# faces at the same time rather than one-by-one predictions\n",
        "\t\t# in the above `for` loop\n",
        "\t\tpreds = maskNet.predict(faces)\n",
        "\n",
        "\t# return a 2-tuple of the face locations and their corresponding\n",
        "\t# locations\n",
        "\treturn (locs, preds)\n",
        "\n",
        "# load our serialized face detector model from disk\n",
        "print(\"[INFO] loading face detector model...\")\n",
        "faceNet = cv2.dnn.readNet(\"face_detector/deploy.prototxt\", \"face_detector/res10_300x300_ssd_iter_140000.caffemodel\")\n",
        "\n",
        "# load the face mask detector model from disk\n",
        "print(\"[INFO] loading face mask detector model...\")\n",
        "maskNet =load_model(\"mask_detector.model\")\n",
        "\n",
        "# initialize the video stream and allow the camera sensor to warm up\n",
        "print(\"[INFO] starting video stream...\")\n",
        "vs = VideoStream(src=0).start()\n",
        "time.sleep(2.0)\n",
        "\n",
        "# loop over the frames from the video stream\n",
        "while True:\n",
        "\t# grab the frame from the threaded video stream and resize it\n",
        "\t# to have a maximum width of 400 pixels\n",
        "\tframe = vs.read()\n",
        "\tframe = imutils.resize(frame, width=400)\n",
        "\n",
        "\t# detect faces in the frame and determine if they are wearing a\n",
        "\t# face mask or not\n",
        "\t(locs, preds) = detect_and_predict_mask(frame, faceNet, maskNet)\n",
        "\n",
        "\t# loop over the detected face locations and their corresponding\n",
        "\t# locations\n",
        "\tfor (box, pred) in zip(locs, preds):\n",
        "\t\t# unpack the bounding box and predictions\n",
        "\t\t(startX, startY, endX, endY) = box\n",
        "\t\t(mask, withoutMask) = pred\n",
        "\n",
        "\t\t# determine the class label and color we'll use to draw\n",
        "\t\t# the bounding box and text\n",
        "\t\tlabel = \"Mask\" if mask > withoutMask else \"No Mask\"\n",
        "\t\tcolor = (0, 255, 0) if label == \"Mask\" else (0, 0, 255)\n",
        "\n",
        "\t\t# include the probability in the label\n",
        "\t\tlabel = \"{}: {:.2f}%\".format(label, max(mask, withoutMask) * 100)\n",
        "\n",
        "\t\t# display the label and bounding box rectangle on the output\n",
        "\t\t# frame\n",
        "\t\tcv2.putText(frame, label, (startX, startY - 10),\n",
        "\t\t\tcv2.FONT_HERSHEY_SIMPLEX, 0.45, color, 2)\n",
        "\t\tcv2.rectangle(frame, (startX, startY), (endX, endY), color, 2)\n",
        "\n",
        "\t# show the output frame\n",
        "\tcv2.namedWindow(\"preview\")\n",
        "\tcv2.imshow(\"preview\", frame)\n",
        "\tkey = cv2.waitKey(1) & 0xFF\n",
        "\n",
        "\t# if the `q` key was pressed, break from the loop\n",
        "\tif key == ord(\"q\"):\n",
        "\t\tbreak\n",
        "\n",
        "# do a bit of cleanup\n",
        "cv2.destroyAllWindows()\n",
        "vs.stop()"
      ],
      "execution_count": null,
      "outputs": []
    },
    {
      "cell_type": "code",
      "metadata": {
        "id": "cytlnB03RpG6",
        "colab_type": "code",
        "colab": {}
      },
      "source": [
        ""
      ],
      "execution_count": null,
      "outputs": []
    }
  ]
}